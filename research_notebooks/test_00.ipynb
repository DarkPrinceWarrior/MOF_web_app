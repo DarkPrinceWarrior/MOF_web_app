{
 "cells": [
  {
   "cell_type": "code",
   "execution_count": 1,
   "id": "c4a8e968-eb35-4c37-9a16-eab714fef595",
   "metadata": {},
   "outputs": [],
   "source": [
    "import warnings\n",
    "warnings.filterwarnings(\"ignore\")\n",
    "import pandas as pd\n",
    "import numpy as np\n",
    "from sklearn.datasets import load_linnerud\n",
    "from sklearn.decomposition import PCA, TruncatedSVD\n",
    "from sklearn.model_selection import train_test_split\n",
    "from sklearn.pipeline import FeatureUnion\n",
    "from physlearn import Regressor"
   ]
  },
  {
   "cell_type": "markdown",
   "id": "8e9a058a-cc75-4176-ae76-561e460df9cb",
   "metadata": {},
   "source": [
    "# Загрузка данных"
   ]
  },
  {
   "cell_type": "code",
   "execution_count": 2,
   "id": "af5da37c-1740-41cb-a445-de996036ad1b",
   "metadata": {},
   "outputs": [],
   "source": [
    "# Загрузим данные. Я их немножно подправил ещё до загрузки.\n",
    "df = pd.read_excel(\"data/data_00.xlsx\")\n",
    "\n",
    "# Уберём ненужные столбцы и пустые значения\n",
    "df = df.drop(columns=[\"Номер образца\", \"Адсорбент\"]).dropna()\n",
    "\n",
    "# Ещё один нюанс\n",
    "df = df[df[\"Sme, м2/г\"] != \"-\"]\n",
    "\n",
    "# Сменим тип данных у таблицы\n",
    "df[\"Sme, м2/г\"] = df[\"Sme, м2/г\"].astype(np.float64, copy=False)\n",
    "df[\"m (соли), г\"] = df[\"m (соли), г\"].astype(np.float64, copy=False)\n",
    "df[\"Vпр. (р-ля), мл\"] = df[\"Vпр. (р-ля), мл\"].astype(np.float64, copy=False)\n",
    "\n",
    "# У нас есть 3 категориальных признака, которых мы закодируем числами\n",
    "list_of_cats = [\"Металл\", \"Лиганд\", \"Растворитель\"]\n",
    "cat2id = {cat:{v:i for i, v in enumerate(df[cat].drop_duplicates().values)} for cat in list_of_cats}\n",
    "id2cat = {cat:{i:v for i, v in enumerate(df[cat].drop_duplicates().values)} for cat in list_of_cats}\n",
    "for cat in list_of_cats:\n",
    "    df[cat] = df[cat].apply(lambda x: cat2id[cat][x])"
   ]
  },
  {
   "cell_type": "markdown",
   "id": "00427dbb-03cd-40e3-a99e-7ad12486d556",
   "metadata": {},
   "source": [
    "Нужно предсказать:\n",
    "* 'Tрег, ᵒС\\n'\n",
    "* 'Металл', \n",
    "* 'Лиганд', \n",
    "* 'Растворитель', \n",
    "* 'm (соли), г', \n",
    "* 'm(кис-ты), г',\n",
    "* 'Vсин. (р-ля), мл', \n",
    "* 'Т.син., °С', \n",
    "* 'Vпр. (р-ля), мл', \n",
    "* 'Т суш., °С',\n",
    "\n",
    "\n",
    "Подадите на вход:\n",
    "* 'W0, см3/г'\n",
    "* 'SБЭТ, м2/г'"
   ]
  },
  {
   "cell_type": "code",
   "execution_count": 3,
   "id": "86bdcba1-7d28-482c-b33d-49aa2e76c1e6",
   "metadata": {},
   "outputs": [],
   "source": [
    "# Кусок кода взят отсюда: https://scikit-physlearn.readthedocs.io/en/latest/quick_start.html\n",
    "\n",
    "bunch = load_linnerud(as_frame=True)  # returns a Bunch instance"
   ]
  },
  {
   "cell_type": "code",
   "execution_count": 4,
   "id": "0f122073-492c-4ed8-9853-07de3b8cdb68",
   "metadata": {},
   "outputs": [],
   "source": [
    "X_cols = ['W0, см3/г', 'SБЭТ, м2/г']"
   ]
  },
  {
   "cell_type": "code",
   "execution_count": 5,
   "id": "0e4dc901-f2df-4921-baaf-97da324f12d7",
   "metadata": {},
   "outputs": [],
   "source": [
    "y_cols = ['Tрег, ᵒС\\n', 'Металл', 'Лиганд', 'Растворитель', 'm (соли), г', 'm(кис-ты), г', 'Vсин. (р-ля), мл', 'Т.син., °С', 'Vпр. (р-ля), мл', 'Т суш., °С']"
   ]
  },
  {
   "cell_type": "code",
   "execution_count": 6,
   "id": "8654144a-a217-49dd-96e7-efcbdfd6f000",
   "metadata": {},
   "outputs": [],
   "source": [
    "X = df[X_cols]"
   ]
  },
  {
   "cell_type": "code",
   "execution_count": 7,
   "id": "5ae8a736-21e4-47ed-8d37-520aee1aa6d0",
   "metadata": {},
   "outputs": [],
   "source": [
    "y = df[y_cols]"
   ]
  },
  {
   "cell_type": "code",
   "execution_count": 8,
   "id": "2cabf6a9-ee01-4716-9e84-6232642d708b",
   "metadata": {},
   "outputs": [
    {
     "name": "stdout",
     "output_type": "stream",
     "text": [
      "Fitting 5 folds for each of 8 candidates, totalling 40 fits\n",
      "[Pipeline] ................ (step 1 of 2) Processing tr, total=   0.0s\n",
      "[Pipeline] ............... (step 2 of 2) Processing reg, total=   0.1s\n",
      "[Pipeline] ................ (step 1 of 2) Processing tr, total=   0.0s\n",
      "[Pipeline] ............... (step 2 of 2) Processing reg, total=   0.0s\n",
      "16.17\n"
     ]
    }
   ],
   "source": [
    "X_train, X_test, y_train, y_test = train_test_split(X, y,\n",
    "                                                    random_state=42)\n",
    "\n",
    "transformer_list = [('pca', PCA(n_components=1)),\n",
    "                    ('svd', TruncatedSVD(n_components=2))]\n",
    "union = FeatureUnion(transformer_list=transformer_list, n_jobs=-1)\n",
    "\n",
    "# Select a regressor, e.g., LGBMRegressor from LightGBM,\n",
    "# with a case-insensitive string.\n",
    "reg = Regressor(regressor_choice='lgbmregressor',\n",
    "                pipeline_transform=('tr', union),\n",
    "                scoring='neg_mean_absolute_error')\n",
    "\n",
    "# Automatically build the pipeline with final estimator MultiOutputRegressor\n",
    "# from Sklearn, then exhaustively search over the (hyper)parameters.\n",
    "search_params = dict(reg__boosting_type=['gbdt', 'goss'],\n",
    "                     reg__n_estimators=[6, 8, 10, 20])\n",
    "reg.search(X_train, y_train, search_params=search_params,\n",
    "           search_method='gridsearchcv')\n",
    "\n",
    "# Generate predictions with the refit regressor, then\n",
    "# compute the average mean absolute error.\n",
    "y_pred = reg.fit(X_train, y_train).predict(X_test)\n",
    "score = reg.score(y_test, y_pred)\n",
    "print(score['mae'].mean().round(decimals=2))"
   ]
  },
  {
   "cell_type": "code",
   "execution_count": 9,
   "id": "f741616f-5011-433b-90c2-f36854f28ea2",
   "metadata": {},
   "outputs": [
    {
     "data": {
      "text/html": [
       "<div>\n",
       "<style scoped>\n",
       "    .dataframe tbody tr th:only-of-type {\n",
       "        vertical-align: middle;\n",
       "    }\n",
       "\n",
       "    .dataframe tbody tr th {\n",
       "        vertical-align: top;\n",
       "    }\n",
       "\n",
       "    .dataframe thead th {\n",
       "        text-align: right;\n",
       "    }\n",
       "</style>\n",
       "<table border=\"1\" class=\"dataframe\">\n",
       "  <thead>\n",
       "    <tr style=\"text-align: right;\">\n",
       "      <th></th>\n",
       "      <th>Tрег, ᵒС\\n</th>\n",
       "      <th>Металл</th>\n",
       "      <th>Лиганд</th>\n",
       "      <th>Растворитель</th>\n",
       "      <th>m (соли), г</th>\n",
       "      <th>m(кис-ты), г</th>\n",
       "      <th>Vсин. (р-ля), мл</th>\n",
       "      <th>Т.син., °С</th>\n",
       "      <th>Vпр. (р-ля), мл</th>\n",
       "      <th>Т суш., °С</th>\n",
       "    </tr>\n",
       "  </thead>\n",
       "  <tbody>\n",
       "    <tr>\n",
       "      <th>0</th>\n",
       "      <td>132.497035</td>\n",
       "      <td>Fe</td>\n",
       "      <td>NH2-BDC</td>\n",
       "      <td>ДМФА</td>\n",
       "      <td>1.687657</td>\n",
       "      <td>1.039042</td>\n",
       "      <td>40.844399</td>\n",
       "      <td>129.295022</td>\n",
       "      <td>208.285943</td>\n",
       "      <td>126.929446</td>\n",
       "    </tr>\n",
       "  </tbody>\n",
       "</table>\n",
       "</div>"
      ],
      "text/plain": [
       "   Tрег, ᵒС\\n Металл   Лиганд Растворитель  m (соли), г  m(кис-ты), г  \\\n",
       "0  132.497035     Fe  NH2-BDC         ДМФА     1.687657      1.039042   \n",
       "\n",
       "   Vсин. (р-ля), мл  Т.син., °С  Vпр. (р-ля), мл  Т суш., °С  \n",
       "0         40.844399  129.295022       208.285943  126.929446  "
      ]
     },
     "execution_count": 9,
     "metadata": {},
     "output_type": "execute_result"
    }
   ],
   "source": [
    "INPUT = [0.5, 1500]\n",
    "output = reg.predict(pd.DataFrame([INPUT], columns=X_test.columns))\n",
    "output.columns = y_cols\n",
    "# Раскодируем наши категориальные признаки\n",
    "for cat in list_of_cats:\n",
    "    output.loc[0, cat] = id2cat[cat][round(output.loc[0, cat])]\n",
    "output"
   ]
  },
  {
   "cell_type": "code",
   "execution_count": 10,
   "id": "634a36a9-bb00-4cb4-9a13-12876c82fc1d",
   "metadata": {},
   "outputs": [
    {
     "data": {
      "text/html": [
       "<div>\n",
       "<style scoped>\n",
       "    .dataframe tbody tr th:only-of-type {\n",
       "        vertical-align: middle;\n",
       "    }\n",
       "\n",
       "    .dataframe tbody tr th {\n",
       "        vertical-align: top;\n",
       "    }\n",
       "\n",
       "    .dataframe thead th {\n",
       "        text-align: right;\n",
       "    }\n",
       "</style>\n",
       "<table border=\"1\" class=\"dataframe\">\n",
       "  <thead>\n",
       "    <tr style=\"text-align: right;\">\n",
       "      <th></th>\n",
       "      <th>Tрег, ᵒС\\n</th>\n",
       "      <th>Металл</th>\n",
       "      <th>Лиганд</th>\n",
       "      <th>Растворитель</th>\n",
       "      <th>m (соли), г</th>\n",
       "      <th>m(кис-ты), г</th>\n",
       "      <th>Vсин. (р-ля), мл</th>\n",
       "      <th>Т.син., °С</th>\n",
       "      <th>Vпр. (р-ля), мл</th>\n",
       "      <th>Т суш., °С</th>\n",
       "    </tr>\n",
       "  </thead>\n",
       "  <tbody>\n",
       "    <tr>\n",
       "      <th>0</th>\n",
       "      <td>172.967609</td>\n",
       "      <td>Ti</td>\n",
       "      <td>NH2-BDC</td>\n",
       "      <td>ДМФА</td>\n",
       "      <td>4.399951</td>\n",
       "      <td>2.297097</td>\n",
       "      <td>57.860274</td>\n",
       "      <td>121.832602</td>\n",
       "      <td>266.423665</td>\n",
       "      <td>126.480035</td>\n",
       "    </tr>\n",
       "  </tbody>\n",
       "</table>\n",
       "</div>"
      ],
      "text/plain": [
       "   Tрег, ᵒС\\n Металл   Лиганд Растворитель  m (соли), г  m(кис-ты), г  \\\n",
       "0  172.967609     Ti  NH2-BDC         ДМФА     4.399951      2.297097   \n",
       "\n",
       "   Vсин. (р-ля), мл  Т.син., °С  Vпр. (р-ля), мл  Т суш., °С  \n",
       "0         57.860274  121.832602       266.423665  126.480035  "
      ]
     },
     "execution_count": 10,
     "metadata": {},
     "output_type": "execute_result"
    }
   ],
   "source": [
    "INPUT = X_test.iloc[0,:].values\n",
    "output = reg.predict(pd.DataFrame([INPUT], columns=X_test.columns))\n",
    "pred = output.values[0]\n",
    "output.columns = y_cols\n",
    "# Раскодируем наши категориальные признаки\n",
    "for cat in list_of_cats:\n",
    "    output.loc[0, cat] = id2cat[cat][round(output.loc[0, cat])]\n",
    "output"
   ]
  },
  {
   "cell_type": "code",
   "execution_count": 11,
   "id": "50d5d73b-104b-4b0b-acc8-b6333cedc348",
   "metadata": {},
   "outputs": [
    {
     "data": {
      "text/plain": [
       "array([1.72967609e+02, 2.58643142e+00, 6.39489196e-01, 7.76438751e-02,\n",
       "       4.39995091e+00, 2.29709667e+00, 5.78602742e+01, 1.21832602e+02,\n",
       "       2.66423665e+02, 1.26480035e+02])"
      ]
     },
     "execution_count": 11,
     "metadata": {},
     "output_type": "execute_result"
    }
   ],
   "source": [
    "pred"
   ]
  },
  {
   "cell_type": "code",
   "execution_count": 12,
   "id": "3ec79245-b814-49b4-8e49-ea029173fe2c",
   "metadata": {},
   "outputs": [
    {
     "data": {
      "text/plain": [
       "Tрег, ᵒС\\n          110.0000\n",
       "Металл                2.0000\n",
       "Лиганд                3.0000\n",
       "Растворитель          0.0000\n",
       "m (соли), г           0.3560\n",
       "m(кис-ты), г          0.3505\n",
       "Vсин. (р-ля), мл     64.0000\n",
       "Т.син., °С          110.0000\n",
       "Vпр. (р-ля), мл     150.0000\n",
       "Т суш., °С          130.0000\n",
       "Name: 236, dtype: float64"
      ]
     },
     "execution_count": 12,
     "metadata": {},
     "output_type": "execute_result"
    }
   ],
   "source": [
    "y_test.iloc[0,:]"
   ]
  },
  {
   "cell_type": "markdown",
   "id": "4e3f589f-e0d3-4281-9762-fd8c05d2fa62",
   "metadata": {},
   "source": [
    "### Предложение по метрике: \n",
    "## Ненормализованния (до построения следующего алгоритма) суммарная средне-взвешенная ошибка"
   ]
  },
  {
   "cell_type": "markdown",
   "id": "db1012b0-26dc-42fe-9562-96c4100435e3",
   "metadata": {},
   "source": [
    "Важность предсказаний"
   ]
  },
  {
   "cell_type": "markdown",
   "id": "ab1ce37a-5add-4c74-9978-0fef697c1270",
   "metadata": {},
   "source": [
    "* Металл  0%\n",
    "* Лиганд  1%\n",
    "* Растворитель 2%\n",
    "* m (соли), г 3%\n",
    "* m(кис-ты), г 3%\n",
    "* Vсин. (р-ля), мл  5%\n",
    "* Т.син., °С 1%\n",
    "* Vпр. (р-ля), мл 10%\n",
    "* Т суш., °С 5%\n",
    "* Tрег, ᵒС (10%)"
   ]
  },
  {
   "cell_type": "code",
   "execution_count": 13,
   "id": "4a3becec-9034-4af5-81cf-cfa1bf5095db",
   "metadata": {},
   "outputs": [
    {
     "name": "stdout",
     "output_type": "stream",
     "text": [
      "Tрег, ᵒС 110.0\n",
      "Металл 2.0\n",
      "Лиганд 3.0\n",
      "Растворитель 0.0\n",
      "m (соли), г 0.356\n",
      "m(кис-ты), г 0.3505\n",
      "Vсин. (р-ля), мл 64.0\n",
      "Т.син., °С 110.0\n",
      "Vпр. (р-ля), мл 150.0\n",
      "Т суш., °С 130.0\n"
     ]
    }
   ],
   "source": [
    "for col_name, value in zip(y_test.columns, y_test.iloc[0,:]):\n",
    "    col_name = col_name.replace(\"\\n\", \"\")\n",
    "    print(col_name, value)"
   ]
  },
  {
   "cell_type": "code",
   "execution_count": 14,
   "id": "7d6f7612-95cd-4efe-8776-22196f72167a",
   "metadata": {},
   "outputs": [],
   "source": [
    "list_of_cols = [i.replace(\"\\n\", \"\") for i in y_test.columns]"
   ]
  },
  {
   "cell_type": "code",
   "execution_count": 15,
   "id": "d431ccb5-97a6-4063-98ef-49848774612d",
   "metadata": {},
   "outputs": [],
   "source": [
    "list_of_allowed_err = [10, 0, 1, 2, 3, 3, 5, 1, 10, 5]"
   ]
  },
  {
   "cell_type": "code",
   "execution_count": 16,
   "id": "d90d7fea-f5f5-497e-a569-eacda849f9fa",
   "metadata": {},
   "outputs": [],
   "source": [
    "list_of_importancy = [(abs(10 - i) + 5) / 110 for i in list_of_allowed_err]"
   ]
  },
  {
   "cell_type": "code",
   "execution_count": 17,
   "id": "93e6b655-2781-4b08-b732-664fdeba6551",
   "metadata": {},
   "outputs": [],
   "source": [
    "err_weights = {k:v for k,v in zip(list_of_cols, list_of_importancy)}"
   ]
  },
  {
   "cell_type": "code",
   "execution_count": 18,
   "id": "b643e0fc-a0d5-4cb0-b0a3-6d3085045f58",
   "metadata": {},
   "outputs": [],
   "source": [
    "true = y_test.iloc[0,:].values"
   ]
  },
  {
   "cell_type": "code",
   "execution_count": 19,
   "id": "b8123329-0fe1-453f-aae7-6ceb819ed04b",
   "metadata": {},
   "outputs": [
    {
     "data": {
      "text/plain": [
       "11.581356995739153"
      ]
     },
     "execution_count": 19,
     "metadata": {},
     "output_type": "execute_result"
    }
   ],
   "source": [
    "sum(abs(true - pred) * np.array(list_of_importancy))"
   ]
  },
  {
   "cell_type": "markdown",
   "id": "f4a9dfe5-8218-4594-aa24-9dc13ae4178f",
   "metadata": {},
   "source": [
    "Напишем функцию"
   ]
  },
  {
   "cell_type": "code",
   "execution_count": 20,
   "id": "a33bff88-5ec0-4f2a-ab1e-f9c4d831395e",
   "metadata": {},
   "outputs": [],
   "source": [
    "def USWE(true, pred):\n",
    "    list_of_allowed_err = [10, 0, 1, 2, 3, 3, 5, 1, 10, 5]\n",
    "    list_of_importancy = [(abs(10 - i) + 5) / 110 for i in list_of_allowed_err]\n",
    "    return sum(abs(true - pred) * np.array(list_of_importancy))"
   ]
  },
  {
   "cell_type": "code",
   "execution_count": 21,
   "id": "e24768c0-fb60-4188-9172-8b0ce28d8270",
   "metadata": {},
   "outputs": [
    {
     "name": "stdout",
     "output_type": "stream",
     "text": [
      "11.581356995739153\n"
     ]
    }
   ],
   "source": [
    "print(USWE(true, pred))"
   ]
  },
  {
   "cell_type": "markdown",
   "id": "94f8b50b-861c-4ce6-8784-6ad7089e9592",
   "metadata": {},
   "source": [
    "Посчитаем для всех предсказаний"
   ]
  },
  {
   "cell_type": "code",
   "execution_count": 22,
   "id": "3cb8daf0-fa31-44c2-8faa-bd0649bcb096",
   "metadata": {},
   "outputs": [],
   "source": [
    "output = reg.predict(pd.DataFrame(X_test, columns=X_test.columns))"
   ]
  },
  {
   "cell_type": "code",
   "execution_count": 23,
   "id": "7b634688-5115-43af-a471-41f24c0b8924",
   "metadata": {},
   "outputs": [],
   "source": [
    "preds = output.values"
   ]
  },
  {
   "cell_type": "code",
   "execution_count": 24,
   "id": "93685184-f05a-4616-b87a-c4e3d94ccdc3",
   "metadata": {},
   "outputs": [],
   "source": [
    "trues = y_test.values"
   ]
  },
  {
   "cell_type": "code",
   "execution_count": 25,
   "id": "0a23dc0b-7aa7-4c36-8ec8-7cc1dffc955e",
   "metadata": {},
   "outputs": [
    {
     "name": "stdout",
     "output_type": "stream",
     "text": [
      "9.893013432041322\n"
     ]
    }
   ],
   "source": [
    "MUSWE = 0\n",
    "for pred, true in zip(preds, trues):\n",
    "    MUSWE += USWE(true, pred)\n",
    "MUSWE /= len(preds)\n",
    "print(MUSWE)"
   ]
  },
  {
   "cell_type": "markdown",
   "id": "721714c9-c8f1-41a1-aecf-6c8f39176f5a",
   "metadata": {},
   "source": [
    "Средняя ошибка составила 9.89.\n",
    "Попробуем улучшить этот показатель"
   ]
  },
  {
   "cell_type": "markdown",
   "id": "092580d4-b070-4a9f-9cd1-ac979d0273af",
   "metadata": {},
   "source": [
    "# Нормализация"
   ]
  },
  {
   "cell_type": "markdown",
   "id": "f47deb71-a7a8-4318-93df-504073411e6a",
   "metadata": {},
   "source": [
    "Номамилизацию сделаем от 0 до 1"
   ]
  },
  {
   "cell_type": "code",
   "execution_count": 26,
   "id": "1229d3de-beeb-4551-85b6-feefce077da2",
   "metadata": {},
   "outputs": [],
   "source": [
    "# Загрузим данные. Я их немножно подправил ещё до загрузки.\n",
    "df = pd.read_excel(\"data/data_00.xlsx\")\n",
    "\n",
    "# Уберём ненужные столбцы и пустые значения\n",
    "df = df.drop(columns=[\"Номер образца\", \"Адсорбент\"]).dropna()\n",
    "\n",
    "# Ещё один нюанс\n",
    "df = df[df[\"Sme, м2/г\"] != \"-\"]\n",
    "\n",
    "# Сменим тип данных у таблицы\n",
    "df[\"Sme, м2/г\"] = df[\"Sme, м2/г\"].astype(np.float64, copy=False)\n",
    "df[\"m (соли), г\"] = df[\"m (соли), г\"].astype(np.float64, copy=False)\n",
    "df[\"Vпр. (р-ля), мл\"] = df[\"Vпр. (р-ля), мл\"].astype(np.float64, copy=False)\n",
    "\n",
    "# У нас есть 3 категориальных признака, которых мы закодируем числами\n",
    "list_of_cats = [\"Металл\", \"Лиганд\", \"Растворитель\"]\n",
    "cat2id = {cat:{v:i for i, v in enumerate(df[cat].drop_duplicates().values)} for cat in list_of_cats}\n",
    "id2cat = {cat:{i:v for i, v in enumerate(df[cat].drop_duplicates().values)} for cat in list_of_cats}\n",
    "for cat in list_of_cats:\n",
    "    df[cat] = df[cat].apply(lambda x: cat2id[cat][x])"
   ]
  },
  {
   "cell_type": "code",
   "execution_count": 27,
   "id": "cc35c0de-172e-470b-96fb-0df2117b95e8",
   "metadata": {},
   "outputs": [],
   "source": [
    "cols = list(df.columns)"
   ]
  },
  {
   "cell_type": "code",
   "execution_count": 28,
   "id": "1e43926a-e0f0-407a-9167-448e707a428c",
   "metadata": {},
   "outputs": [],
   "source": [
    "normalization_weights = {}\n",
    "for col in cols:\n",
    "    min_ = df.loc[:,col].min()\n",
    "    max_ = df.loc[:,col].max()\n",
    "    normalization_weights[col] = min_, max_"
   ]
  },
  {
   "cell_type": "markdown",
   "id": "75d8e6bd-fe52-4580-9686-69dd23036333",
   "metadata": {},
   "source": [
    "Нули в значениях могут помешать при подсчёте некоторых метрик, так что отнормируем от 0.01 до 1.01"
   ]
  },
  {
   "cell_type": "code",
   "execution_count": 29,
   "id": "7bbb3254-e399-45b4-8d2c-6bab5739cbd4",
   "metadata": {},
   "outputs": [],
   "source": [
    "def normalize(value, col):\n",
    "    min_, max_ = normalization_weights[col]\n",
    "    z_value = (value - min_) / (max_ - min_)\n",
    "    return z_value + 0.01"
   ]
  },
  {
   "cell_type": "code",
   "execution_count": 30,
   "id": "e6c35cff-a981-4227-9ea7-f7b082119a13",
   "metadata": {},
   "outputs": [],
   "source": [
    "for col in cols:\n",
    "    df.loc[:,col] = df.loc[:,col].apply(lambda value: normalize(value, col))"
   ]
  },
  {
   "cell_type": "code",
   "execution_count": 31,
   "id": "f9db3dda-ae8f-4f79-a2dd-1e61d26fea60",
   "metadata": {},
   "outputs": [],
   "source": [
    "def restore_normalization(z_value, col):\n",
    "    min_, max_ = normalization_weights[col]\n",
    "    value = (z_value - 0.01) * (max_ - min_) + min_\n",
    "    return value"
   ]
  },
  {
   "cell_type": "code",
   "execution_count": 32,
   "id": "dad5ec07-9769-485c-a899-27c6a8d164bf",
   "metadata": {},
   "outputs": [
    {
     "name": "stdout",
     "output_type": "stream",
     "text": [
      "Fitting 5 folds for each of 8 candidates, totalling 40 fits\n",
      "[Pipeline] ................ (step 1 of 2) Processing tr, total=   0.0s\n",
      "[Pipeline] ............... (step 2 of 2) Processing reg, total=   0.0s\n",
      "[Pipeline] ................ (step 1 of 2) Processing tr, total=   0.0s\n",
      "[Pipeline] ............... (step 2 of 2) Processing reg, total=   0.0s\n",
      "0.13\n"
     ]
    }
   ],
   "source": [
    "X = df[X_cols]\n",
    "y = df[y_cols]\n",
    "\n",
    "\n",
    "X_train, X_test, y_train, y_test = train_test_split(X, y,\n",
    "                                                    random_state=42)\n",
    "\n",
    "transformer_list = [('pca', PCA(n_components=1)),\n",
    "                    ('svd', TruncatedSVD(n_components=2))]\n",
    "union = FeatureUnion(transformer_list=transformer_list, n_jobs=-1)\n",
    "\n",
    "# Select a regressor, e.g., LGBMRegressor from LightGBM,\n",
    "# with a case-insensitive string.\n",
    "reg = Regressor(regressor_choice='lgbmregressor',\n",
    "                pipeline_transform=('tr', union),\n",
    "                scoring='neg_mean_absolute_error')\n",
    "\n",
    "# Automatically build the pipeline with final estimator MultiOutputRegressor\n",
    "# from Sklearn, then exhaustively search over the (hyper)parameters.\n",
    "search_params = dict(reg__boosting_type=['gbdt', 'goss'],\n",
    "                     reg__n_estimators=[6, 8, 10, 20])\n",
    "reg.search(X_train, y_train, search_params=search_params,\n",
    "           search_method='gridsearchcv')\n",
    "\n",
    "# Generate predictions with the refit regressor, then\n",
    "# compute the average mean absolute error.\n",
    "y_pred = reg.fit(X_train, y_train).predict(X_test)\n",
    "score = reg.score(y_test, y_pred)\n",
    "print(score['mae'].mean().round(decimals=2))"
   ]
  },
  {
   "cell_type": "code",
   "execution_count": 33,
   "id": "1f37313f-729a-4eac-aa54-24ff41ee725d",
   "metadata": {},
   "outputs": [],
   "source": [
    "output = reg.predict(pd.DataFrame(X_test, columns=X_test.columns))"
   ]
  },
  {
   "cell_type": "code",
   "execution_count": 34,
   "id": "ac25e3b5-5aec-4e18-b9b6-5a54b1a24753",
   "metadata": {},
   "outputs": [],
   "source": [
    "preds = output.values\n",
    "trues = y_test.values"
   ]
  },
  {
   "cell_type": "code",
   "execution_count": 35,
   "id": "47b62254-772d-469c-80ff-18c1b2a71f04",
   "metadata": {},
   "outputs": [],
   "source": [
    "def NSWE(true, pred):\n",
    "    list_of_allowed_err = [10, 0, 1, 2, 3, 3, 5, 1, 10, 5]\n",
    "    list_of_importancy = [(abs(10 - i) + 5) / 110 for i in list_of_allowed_err]\n",
    "    return sum(abs(true - pred) * np.array(list_of_importancy))"
   ]
  },
  {
   "cell_type": "code",
   "execution_count": 36,
   "id": "706282db-1aa6-4314-bb0b-c1523ab1a13d",
   "metadata": {},
   "outputs": [
    {
     "name": "stdout",
     "output_type": "stream",
     "text": [
      "0.1376766272377534\n"
     ]
    }
   ],
   "source": [
    "MNSWE = 0\n",
    "for pred, true in zip(preds, trues):\n",
    "    MNSWE += NSWE(true, pred)\n",
    "MNSWE /= len(preds)\n",
    "print(MNSWE)"
   ]
  },
  {
   "cell_type": "markdown",
   "id": "c64799a9-2044-4c1b-a3ce-5be145178e38",
   "metadata": {},
   "source": [
    "Средняя нормализованная суммарная взвещенная ошибка составила 14%"
   ]
  },
  {
   "cell_type": "code",
   "execution_count": 37,
   "id": "2c1160fc-dae4-4703-80f9-d526f8b53a72",
   "metadata": {},
   "outputs": [],
   "source": [
    "preds = pd.DataFrame(preds, columns=y_test.columns)"
   ]
  },
  {
   "cell_type": "code",
   "execution_count": 38,
   "id": "fe371e06-5340-41af-aac8-4ce2321dd28d",
   "metadata": {},
   "outputs": [],
   "source": [
    "for col in preds.columns:\n",
    "    preds.loc[:,col] = preds.loc[:,col].apply(lambda value: restore_normalization(value, col))\n",
    "    y_test.loc[:,col] = y_test.loc[:,col].apply(lambda value: restore_normalization(value, col))"
   ]
  },
  {
   "cell_type": "code",
   "execution_count": 39,
   "id": "18e54e71-e395-4181-a52f-1dddf81b1125",
   "metadata": {},
   "outputs": [
    {
     "name": "stdout",
     "output_type": "stream",
     "text": [
      "9.769727360287982\n"
     ]
    }
   ],
   "source": [
    "preds = preds.values\n",
    "trues = y_test.values\n",
    "\n",
    "MUSWE = 0\n",
    "for pred, true in zip(preds, trues):\n",
    "    MUSWE += USWE(true, pred)\n",
    "MUSWE /= len(preds)\n",
    "print(MUSWE)"
   ]
  },
  {
   "cell_type": "code",
   "execution_count": 40,
   "id": "78ac5323-f7e4-4726-b47a-29f74a0cbae6",
   "metadata": {},
   "outputs": [],
   "source": [
    "preds = pd.DataFrame(preds, columns=y_test.columns)\n",
    "\n",
    "# Раскодируем наши категориальные признаки\n",
    "for i in range(preds.shape[0]):\n",
    "    for cat in list_of_cats:\n",
    "        preds.loc[i, cat] = id2cat[cat][round(preds.loc[i, cat])]\n",
    "\n",
    "y_test.reset_index(inplace=True)\n",
    "\n",
    "y_test.drop(columns=\"index\", inplace=True)\n",
    "\n",
    "# Раскодируем наши категориальные признаки\n",
    "for i in range(y_test.shape[0]):\n",
    "    for cat in list_of_cats:\n",
    "        y_test.loc[i, cat] = id2cat[cat][round(y_test.loc[i, cat])]\n",
    "\n",
    "for col in X_test.columns:\n",
    "    X_test.loc[:,col] = X_test.loc[:,col].apply(lambda value: restore_normalization(value, col))\n"
   ]
  },
  {
   "cell_type": "code",
   "execution_count": 41,
   "id": "f857d83e-0898-42dc-a123-03c3b17d6f22",
   "metadata": {},
   "outputs": [
    {
     "data": {
      "text/html": [
       "<div>\n",
       "<style scoped>\n",
       "    .dataframe tbody tr th:only-of-type {\n",
       "        vertical-align: middle;\n",
       "    }\n",
       "\n",
       "    .dataframe tbody tr th {\n",
       "        vertical-align: top;\n",
       "    }\n",
       "\n",
       "    .dataframe thead th {\n",
       "        text-align: right;\n",
       "    }\n",
       "</style>\n",
       "<table border=\"1\" class=\"dataframe\">\n",
       "  <thead>\n",
       "    <tr style=\"text-align: right;\">\n",
       "      <th></th>\n",
       "      <th>W0, см3/г</th>\n",
       "      <th>SБЭТ, м2/г</th>\n",
       "    </tr>\n",
       "  </thead>\n",
       "  <tbody>\n",
       "    <tr>\n",
       "      <th>236</th>\n",
       "      <td>0.66</td>\n",
       "      <td>1516.0</td>\n",
       "    </tr>\n",
       "    <tr>\n",
       "      <th>9</th>\n",
       "      <td>0.42</td>\n",
       "      <td>1208.7</td>\n",
       "    </tr>\n",
       "    <tr>\n",
       "      <th>57</th>\n",
       "      <td>0.76</td>\n",
       "      <td>1987.6</td>\n",
       "    </tr>\n",
       "    <tr>\n",
       "      <th>60</th>\n",
       "      <td>0.39</td>\n",
       "      <td>1014.1</td>\n",
       "    </tr>\n",
       "    <tr>\n",
       "      <th>25</th>\n",
       "      <td>0.37</td>\n",
       "      <td>1030.4</td>\n",
       "    </tr>\n",
       "  </tbody>\n",
       "</table>\n",
       "</div>"
      ],
      "text/plain": [
       "     W0, см3/г  SБЭТ, м2/г\n",
       "236       0.66      1516.0\n",
       "9         0.42      1208.7\n",
       "57        0.76      1987.6\n",
       "60        0.39      1014.1\n",
       "25        0.37      1030.4"
      ]
     },
     "execution_count": 41,
     "metadata": {},
     "output_type": "execute_result"
    }
   ],
   "source": [
    "X_test.head()"
   ]
  },
  {
   "cell_type": "code",
   "execution_count": 42,
   "id": "866c8250-0e8f-46de-8371-b694483ea3bf",
   "metadata": {},
   "outputs": [
    {
     "data": {
      "text/html": [
       "<div>\n",
       "<style scoped>\n",
       "    .dataframe tbody tr th:only-of-type {\n",
       "        vertical-align: middle;\n",
       "    }\n",
       "\n",
       "    .dataframe tbody tr th {\n",
       "        vertical-align: top;\n",
       "    }\n",
       "\n",
       "    .dataframe thead th {\n",
       "        text-align: right;\n",
       "    }\n",
       "</style>\n",
       "<table border=\"1\" class=\"dataframe\">\n",
       "  <thead>\n",
       "    <tr style=\"text-align: right;\">\n",
       "      <th></th>\n",
       "      <th>Tрег, ᵒС\\n</th>\n",
       "      <th>Металл</th>\n",
       "      <th>Лиганд</th>\n",
       "      <th>Растворитель</th>\n",
       "      <th>m (соли), г</th>\n",
       "      <th>m(кис-ты), г</th>\n",
       "      <th>Vсин. (р-ля), мл</th>\n",
       "      <th>Т.син., °С</th>\n",
       "      <th>Vпр. (р-ля), мл</th>\n",
       "      <th>Т суш., °С</th>\n",
       "    </tr>\n",
       "  </thead>\n",
       "  <tbody>\n",
       "    <tr>\n",
       "      <th>0</th>\n",
       "      <td>167.339442</td>\n",
       "      <td>Ti</td>\n",
       "      <td>NH2-BDC</td>\n",
       "      <td>ДМФА</td>\n",
       "      <td>3.997244</td>\n",
       "      <td>2.208405</td>\n",
       "      <td>56.848841</td>\n",
       "      <td>121.774449</td>\n",
       "      <td>235.133346</td>\n",
       "      <td>127.754200</td>\n",
       "    </tr>\n",
       "    <tr>\n",
       "      <th>1</th>\n",
       "      <td>139.721516</td>\n",
       "      <td>Fe</td>\n",
       "      <td>NH2-BDC</td>\n",
       "      <td>ДМФА</td>\n",
       "      <td>1.250657</td>\n",
       "      <td>0.785442</td>\n",
       "      <td>38.134959</td>\n",
       "      <td>129.474008</td>\n",
       "      <td>162.681123</td>\n",
       "      <td>130.548723</td>\n",
       "    </tr>\n",
       "    <tr>\n",
       "      <th>2</th>\n",
       "      <td>181.065486</td>\n",
       "      <td>Fe</td>\n",
       "      <td>BDC</td>\n",
       "      <td>ДМФА</td>\n",
       "      <td>1.285941</td>\n",
       "      <td>0.706999</td>\n",
       "      <td>27.144168</td>\n",
       "      <td>125.359650</td>\n",
       "      <td>162.521746</td>\n",
       "      <td>120.892408</td>\n",
       "    </tr>\n",
       "    <tr>\n",
       "      <th>3</th>\n",
       "      <td>169.837742</td>\n",
       "      <td>Zn</td>\n",
       "      <td>NH2-BDC</td>\n",
       "      <td>ДМФА</td>\n",
       "      <td>3.096069</td>\n",
       "      <td>1.920837</td>\n",
       "      <td>63.407185</td>\n",
       "      <td>128.334471</td>\n",
       "      <td>219.677051</td>\n",
       "      <td>129.315583</td>\n",
       "    </tr>\n",
       "    <tr>\n",
       "      <th>4</th>\n",
       "      <td>146.481305</td>\n",
       "      <td>Fe</td>\n",
       "      <td>NH2-BDC</td>\n",
       "      <td>ДМФА</td>\n",
       "      <td>1.227420</td>\n",
       "      <td>0.785442</td>\n",
       "      <td>35.463340</td>\n",
       "      <td>128.030652</td>\n",
       "      <td>162.681123</td>\n",
       "      <td>130.548723</td>\n",
       "    </tr>\n",
       "  </tbody>\n",
       "</table>\n",
       "</div>"
      ],
      "text/plain": [
       "   Tрег, ᵒС\\n Металл   Лиганд Растворитель  m (соли), г  m(кис-ты), г  \\\n",
       "0  167.339442     Ti  NH2-BDC         ДМФА     3.997244      2.208405   \n",
       "1  139.721516     Fe  NH2-BDC         ДМФА     1.250657      0.785442   \n",
       "2  181.065486     Fe      BDC         ДМФА     1.285941      0.706999   \n",
       "3  169.837742     Zn  NH2-BDC         ДМФА     3.096069      1.920837   \n",
       "4  146.481305     Fe  NH2-BDC         ДМФА     1.227420      0.785442   \n",
       "\n",
       "   Vсин. (р-ля), мл  Т.син., °С  Vпр. (р-ля), мл  Т суш., °С  \n",
       "0         56.848841  121.774449       235.133346  127.754200  \n",
       "1         38.134959  129.474008       162.681123  130.548723  \n",
       "2         27.144168  125.359650       162.521746  120.892408  \n",
       "3         63.407185  128.334471       219.677051  129.315583  \n",
       "4         35.463340  128.030652       162.681123  130.548723  "
      ]
     },
     "execution_count": 42,
     "metadata": {},
     "output_type": "execute_result"
    }
   ],
   "source": [
    "preds.head()"
   ]
  },
  {
   "cell_type": "code",
   "execution_count": 43,
   "id": "69b906a1-9fdb-49b6-bf5f-cc927f729037",
   "metadata": {},
   "outputs": [
    {
     "data": {
      "text/html": [
       "<div>\n",
       "<style scoped>\n",
       "    .dataframe tbody tr th:only-of-type {\n",
       "        vertical-align: middle;\n",
       "    }\n",
       "\n",
       "    .dataframe tbody tr th {\n",
       "        vertical-align: top;\n",
       "    }\n",
       "\n",
       "    .dataframe thead th {\n",
       "        text-align: right;\n",
       "    }\n",
       "</style>\n",
       "<table border=\"1\" class=\"dataframe\">\n",
       "  <thead>\n",
       "    <tr style=\"text-align: right;\">\n",
       "      <th></th>\n",
       "      <th>Tрег, ᵒС\\n</th>\n",
       "      <th>Металл</th>\n",
       "      <th>Лиганд</th>\n",
       "      <th>Растворитель</th>\n",
       "      <th>m (соли), г</th>\n",
       "      <th>m(кис-ты), г</th>\n",
       "      <th>Vсин. (р-ля), мл</th>\n",
       "      <th>Т.син., °С</th>\n",
       "      <th>Vпр. (р-ля), мл</th>\n",
       "      <th>Т суш., °С</th>\n",
       "    </tr>\n",
       "  </thead>\n",
       "  <tbody>\n",
       "    <tr>\n",
       "      <th>0</th>\n",
       "      <td>110.0</td>\n",
       "      <td>Zn</td>\n",
       "      <td>BTB</td>\n",
       "      <td>ДМФА</td>\n",
       "      <td>0.3560</td>\n",
       "      <td>0.3505</td>\n",
       "      <td>64.0</td>\n",
       "      <td>110.0</td>\n",
       "      <td>150.0</td>\n",
       "      <td>130.0</td>\n",
       "    </tr>\n",
       "    <tr>\n",
       "      <th>1</th>\n",
       "      <td>130.0</td>\n",
       "      <td>Al</td>\n",
       "      <td>BTC</td>\n",
       "      <td>ДМФА</td>\n",
       "      <td>1.0740</td>\n",
       "      <td>0.4910</td>\n",
       "      <td>28.0</td>\n",
       "      <td>130.0</td>\n",
       "      <td>200.0</td>\n",
       "      <td>130.0</td>\n",
       "    </tr>\n",
       "    <tr>\n",
       "      <th>2</th>\n",
       "      <td>130.0</td>\n",
       "      <td>Fe</td>\n",
       "      <td>BDC</td>\n",
       "      <td>ДМФА</td>\n",
       "      <td>0.8050</td>\n",
       "      <td>0.4980</td>\n",
       "      <td>24.0</td>\n",
       "      <td>130.0</td>\n",
       "      <td>150.0</td>\n",
       "      <td>130.0</td>\n",
       "    </tr>\n",
       "    <tr>\n",
       "      <th>3</th>\n",
       "      <td>130.0</td>\n",
       "      <td>Fe</td>\n",
       "      <td>BDC</td>\n",
       "      <td>ДМФА</td>\n",
       "      <td>0.8092</td>\n",
       "      <td>0.5000</td>\n",
       "      <td>24.0</td>\n",
       "      <td>130.0</td>\n",
       "      <td>150.0</td>\n",
       "      <td>130.0</td>\n",
       "    </tr>\n",
       "    <tr>\n",
       "      <th>4</th>\n",
       "      <td>130.0</td>\n",
       "      <td>Al</td>\n",
       "      <td>BTC</td>\n",
       "      <td>ДМФА</td>\n",
       "      <td>1.0740</td>\n",
       "      <td>0.4910</td>\n",
       "      <td>28.0</td>\n",
       "      <td>130.0</td>\n",
       "      <td>150.0</td>\n",
       "      <td>100.0</td>\n",
       "    </tr>\n",
       "  </tbody>\n",
       "</table>\n",
       "</div>"
      ],
      "text/plain": [
       "   Tрег, ᵒС\\n Металл Лиганд Растворитель  m (соли), г  m(кис-ты), г  \\\n",
       "0       110.0     Zn    BTB         ДМФА       0.3560        0.3505   \n",
       "1       130.0     Al    BTC         ДМФА       1.0740        0.4910   \n",
       "2       130.0     Fe    BDC         ДМФА       0.8050        0.4980   \n",
       "3       130.0     Fe    BDC         ДМФА       0.8092        0.5000   \n",
       "4       130.0     Al    BTC         ДМФА       1.0740        0.4910   \n",
       "\n",
       "   Vсин. (р-ля), мл  Т.син., °С  Vпр. (р-ля), мл  Т суш., °С  \n",
       "0              64.0       110.0            150.0       130.0  \n",
       "1              28.0       130.0            200.0       130.0  \n",
       "2              24.0       130.0            150.0       130.0  \n",
       "3              24.0       130.0            150.0       130.0  \n",
       "4              28.0       130.0            150.0       100.0  "
      ]
     },
     "execution_count": 43,
     "metadata": {},
     "output_type": "execute_result"
    }
   ],
   "source": [
    "y_test.head()"
   ]
  },
  {
   "cell_type": "markdown",
   "id": "1a4df8f3-6f3e-428b-be3a-f1910a315e90",
   "metadata": {},
   "source": [
    "## Вывод:\n",
    "Нормализация помогла нам повысить точность предсказаний а также ввести новую метрику, которая точнее отражает важные показатели, такие как металлы и лиганды"
   ]
  },
  {
   "cell_type": "markdown",
   "id": "26cc22f7-a875-4944-95f3-425cc7343c28",
   "metadata": {},
   "source": [
    "# Используем примитивную нейросеть"
   ]
  },
  {
   "cell_type": "code",
   "execution_count": 44,
   "id": "5a12250b-1ca8-4d8b-9815-552dbd822ab1",
   "metadata": {},
   "outputs": [],
   "source": [
    "# Загрузим данные. Я их немножно подправил ещё до загрузки.\n",
    "df = pd.read_excel(\"data/data_00.xlsx\")\n",
    "\n",
    "# Уберём ненужные столбцы и пустые значения\n",
    "df = df.drop(columns=[\"Номер образца\", \"Адсорбент\"]).dropna()\n",
    "\n",
    "# Ещё один нюанс\n",
    "df = df[df[\"Sme, м2/г\"] != \"-\"]\n",
    "\n",
    "# Сменим тип данных у таблицы\n",
    "df[\"Sme, м2/г\"] = df[\"Sme, м2/г\"].astype(np.float64, copy=False)\n",
    "df[\"m (соли), г\"] = df[\"m (соли), г\"].astype(np.float64, copy=False)\n",
    "df[\"Vпр. (р-ля), мл\"] = df[\"Vпр. (р-ля), мл\"].astype(np.float64, copy=False)\n",
    "\n",
    "# У нас есть 3 категориальных признака, которых мы закодируем числами\n",
    "list_of_cats = [\"Металл\", \"Лиганд\", \"Растворитель\"]\n",
    "cat2id = {cat:{v:i for i, v in enumerate(df[cat].drop_duplicates().values)} for cat in list_of_cats}\n",
    "id2cat = {cat:{i:v for i, v in enumerate(df[cat].drop_duplicates().values)} for cat in list_of_cats}\n",
    "for cat in list_of_cats:\n",
    "    df[cat] = df[cat].apply(lambda x: cat2id[cat][x])\n",
    "\n",
    "cols = list(df.columns)\n",
    "normalization_weights = {}\n",
    "for col in cols:\n",
    "    min_ = df.loc[:,col].min()\n",
    "    max_ = df.loc[:,col].max()\n",
    "    normalization_weights[col] = min_, max_\n",
    "    \n",
    "def normalize(value, col):\n",
    "    min_, max_ = normalization_weights[col]\n",
    "    z_value = (value - min_) / (max_ - min_)\n",
    "    return z_value + 0.01\n",
    "\n",
    "for col in cols:\n",
    "    df.loc[:,col] = df.loc[:,col].apply(lambda value: normalize(value, col))\n",
    "\n",
    "def restore_normalization(z_value, col):\n",
    "    min_, max_ = normalization_weights[col]\n",
    "    value = (z_value - 0.01) * (max_ - min_) + min_\n",
    "    return value\n",
    "\n",
    "X = df[X_cols]\n",
    "y = df[y_cols]\n",
    "\n",
    "\n",
    "X_train, X_test, y_train, y_test = train_test_split(X, y,\n",
    "                                                    random_state=42)"
   ]
  },
  {
   "cell_type": "code",
   "execution_count": 45,
   "id": "9ac36dc9-b513-4c70-88ec-395c85b68344",
   "metadata": {},
   "outputs": [],
   "source": [
    "import torch\n",
    "import torch.nn as nn\n",
    "import torch.nn.functional as F"
   ]
  },
  {
   "cell_type": "code",
   "execution_count": 46,
   "id": "ff762744-d98a-42d2-911c-d2d5986bf711",
   "metadata": {},
   "outputs": [],
   "source": [
    "class Net(nn.Module):\n",
    "\n",
    "    def __init__(self):\n",
    "        super(Net, self).__init__()\n",
    "        self.fc1 = nn.Linear(2, 120)\n",
    "        self.fc2 = nn.Linear(120, 120)\n",
    "        self.fc3 = nn.Linear(120, 120)\n",
    "        self.fc4 = nn.Linear(120, 120)\n",
    "        self.fc5 = nn.Linear(120, 120)\n",
    "        self.fc6 = nn.Linear(120, 84)\n",
    "        self.fc7 = nn.Linear(84, 10)\n",
    "\n",
    "    def forward(self, x):\n",
    "        x = F.relu(self.fc1(x))\n",
    "        x = F.relu(self.fc2(x))\n",
    "        x = F.relu(self.fc3(x))\n",
    "        x = F.relu(self.fc4(x))\n",
    "        x = F.relu(self.fc5(x))\n",
    "        x = F.relu(self.fc6(x))\n",
    "        x = self.fc7(x)\n",
    "        return x"
   ]
  },
  {
   "cell_type": "code",
   "execution_count": 47,
   "id": "d2e0c1c7-dfc7-4a65-9b2e-d96986817c75",
   "metadata": {},
   "outputs": [
    {
     "name": "stdout",
     "output_type": "stream",
     "text": [
      "Batch: 1\n",
      "X shape: torch.Size([64, 2])\n",
      "y shape: torch.Size([64, 10])\n"
     ]
    },
    {
     "data": {
      "text/plain": [
       "'\\nBatch: 1\\nX shape: torch.Size([64, 2])\\ny shape: torch.Size([64])\\n'"
      ]
     },
     "execution_count": 47,
     "metadata": {},
     "output_type": "execute_result"
    }
   ],
   "source": [
    "from torch.utils.data import Dataset, DataLoader\n",
    "\n",
    "# Convert data to torch tensors\n",
    "class Data(Dataset):\n",
    "    def __init__(self, X, y):\n",
    "        self.X = torch.from_numpy(X.astype(np.float32))\n",
    "        self.y = torch.from_numpy(y.astype(np.float32))\n",
    "        self.len = self.X.shape[0]\n",
    "       \n",
    "    def __getitem__(self, index):\n",
    "        return self.X[index], self.y[index]\n",
    "   \n",
    "    def __len__(self):\n",
    "        return self.len\n",
    "\n",
    "\n",
    "batch_size = 64\n",
    "\n",
    "# Instantiate training and test data\n",
    "train_data = Data(X_train.values, y_train.values)\n",
    "train_dataloader = DataLoader(dataset=train_data, batch_size=batch_size, shuffle=True)\n",
    "\n",
    "test_data = Data(X_test.values, y_test.values)\n",
    "test_dataloader = DataLoader(dataset=test_data, batch_size=batch_size, shuffle=True)\n",
    "\n",
    "# Check it's working\n",
    "for batch, (X, y) in enumerate(train_dataloader):\n",
    "    print(f\"Batch: {batch+1}\")\n",
    "    print(f\"X shape: {X.shape}\")\n",
    "    print(f\"y shape: {y.shape}\")\n",
    "    break\n",
    "\n",
    "\n",
    "\"\"\"\n",
    "Batch: 1\n",
    "X shape: torch.Size([64, 2])\n",
    "y shape: torch.Size([64])\n",
    "\"\"\""
   ]
  },
  {
   "cell_type": "code",
   "execution_count": 48,
   "id": "7942a3b5-ddc2-466e-b264-e8a6d822589c",
   "metadata": {},
   "outputs": [],
   "source": [
    "model = Net()"
   ]
  },
  {
   "cell_type": "code",
   "execution_count": 49,
   "id": "ddf08eec-0573-4b82-a911-96375e30d0c4",
   "metadata": {},
   "outputs": [],
   "source": [
    "loss_fn = nn.MSELoss()"
   ]
  },
  {
   "cell_type": "code",
   "execution_count": 50,
   "id": "292fd429-e17e-4fea-854b-72609faecae5",
   "metadata": {},
   "outputs": [],
   "source": [
    "from tqdm import tqdm"
   ]
  },
  {
   "cell_type": "code",
   "execution_count": 51,
   "id": "44e143c0-9297-4338-9cd8-6087d6098eae",
   "metadata": {},
   "outputs": [],
   "source": [
    "import torch.optim as optim"
   ]
  },
  {
   "cell_type": "code",
   "execution_count": 52,
   "id": "60875c38-3c3f-4e73-842b-2095560011c6",
   "metadata": {},
   "outputs": [],
   "source": [
    "optimizer = optim.SGD(model.parameters(), lr=0.001, momentum=0.9)"
   ]
  },
  {
   "cell_type": "code",
   "execution_count": 53,
   "id": "e5f403ec-30f5-452a-a184-d1dd1a3a1dc6",
   "metadata": {},
   "outputs": [
    {
     "name": "stderr",
     "output_type": "stream",
     "text": [
      "100%|██████████| 1000/1000 [00:05<00:00, 171.26it/s]"
     ]
    },
    {
     "name": "stdout",
     "output_type": "stream",
     "text": [
      "Training Complete\n"
     ]
    },
    {
     "name": "stderr",
     "output_type": "stream",
     "text": [
      "\n"
     ]
    },
    {
     "data": {
      "text/plain": [
       "'\\nTraining Complete\\n'"
      ]
     },
     "execution_count": 53,
     "metadata": {},
     "output_type": "execute_result"
    }
   ],
   "source": [
    "num_epochs = 1000\n",
    "loss_values = []\n",
    "\n",
    "\n",
    "for epoch in tqdm(range(num_epochs)):\n",
    "    for X, y in train_dataloader:\n",
    "        # zero the parameter gradients\n",
    "        optimizer.zero_grad()\n",
    "       \n",
    "        # forward + backward + optimize\n",
    "        pred = model(X)\n",
    "        loss = loss_fn(pred, y.unsqueeze(-1)[:,:,0])\n",
    "        loss_values.append(loss.item())\n",
    "        loss.backward()\n",
    "        optimizer.step()\n",
    "\n",
    "print(\"Training Complete\")\n",
    "\n",
    "\"\"\"\n",
    "Training Complete\n",
    "\"\"\""
   ]
  },
  {
   "cell_type": "code",
   "execution_count": 54,
   "id": "06e8047a-d28c-4438-b035-97c485d2543b",
   "metadata": {},
   "outputs": [],
   "source": [
    "from matplotlib import pyplot as plt"
   ]
  },
  {
   "cell_type": "code",
   "execution_count": 55,
   "id": "9fbab662-c07d-4628-a39d-c1ef47ba4d31",
   "metadata": {},
   "outputs": [
    {
     "data": {
      "image/png": "[encoded data removed]",
      "text/plain": [
       "<Figure size 576x360 with 1 Axes>"
      ]
     },
     "metadata": {
      "needs_background": "light"
     },
     "output_type": "display_data"
    }
   ],
   "source": [
    "step = np.linspace(0, num_epochs, 4*num_epochs)\n",
    "\n",
    "fig, ax = plt.subplots(figsize=(8,5))\n",
    "plt.plot(step, np.array(loss_values))\n",
    "plt.title(\"Step-wise Loss\")\n",
    "plt.xlabel(\"Epochs\")\n",
    "plt.ylabel(\"Loss\")\n",
    "plt.show()"
   ]
  },
  {
   "cell_type": "code",
   "execution_count": 56,
   "id": "7e5662d0-bbb2-4392-951c-ad964d0b6ba0",
   "metadata": {},
   "outputs": [],
   "source": [
    "preds = []\n",
    "for input_ in X_test.values:\n",
    "    preds.append([float(t) for t in model(torch.tensor([input_[0], input_[1]]).float())])"
   ]
  },
  {
   "cell_type": "code",
   "execution_count": 57,
   "id": "2ff53399-d9ce-4f89-a5f2-49a711a54d60",
   "metadata": {},
   "outputs": [],
   "source": [
    "preds = np.array(preds)"
   ]
  },
  {
   "cell_type": "code",
   "execution_count": 58,
   "id": "6ad06111-5012-41b4-b6e7-bd75038c4eee",
   "metadata": {},
   "outputs": [],
   "source": [
    "trues = y_test.values"
   ]
  },
  {
   "cell_type": "code",
   "execution_count": 59,
   "id": "59f70522-06bb-4f24-8edb-d273facd9984",
   "metadata": {},
   "outputs": [
    {
     "name": "stdout",
     "output_type": "stream",
     "text": [
      "0.17354938653878618\n"
     ]
    }
   ],
   "source": [
    "MNSWE = 0\n",
    "for pred, true in zip(preds, trues):\n",
    "    MNSWE += NSWE(true, pred)\n",
    "MNSWE /= len(preds)\n",
    "print(MNSWE)"
   ]
  },
  {
   "cell_type": "markdown",
   "id": "073b776c-3b5e-496b-8858-6ffec48d0d6e",
   "metadata": {},
   "source": [
    "Использование полносвязной нейросети ухудшило нашу метрику. Она стала 17%"
   ]
  },
  {
   "cell_type": "code",
   "execution_count": 60,
   "id": "6df95d56-c08f-46cd-9212-9046aaf3ba80",
   "metadata": {},
   "outputs": [],
   "source": [
    "preds = pd.DataFrame(preds)"
   ]
  },
  {
   "cell_type": "code",
   "execution_count": 61,
   "id": "1391a431-b93a-4dfa-9d54-86c249465ff0",
   "metadata": {},
   "outputs": [],
   "source": [
    "preds.columns = y_test.columns"
   ]
  },
  {
   "cell_type": "code",
   "execution_count": 62,
   "id": "bcf7d9b6-ff2d-4fa0-8959-1c6a5dcb0f6b",
   "metadata": {},
   "outputs": [],
   "source": [
    "for col in y_test.columns:\n",
    "    preds.loc[:,col] = preds.loc[:,col].apply(lambda value: restore_normalization(value, col))\n",
    "    y_test.loc[:,col] = y_test.loc[:,col].apply(lambda value: restore_normalization(value, col))"
   ]
  },
  {
   "cell_type": "code",
   "execution_count": 63,
   "id": "cc3dd6de-a667-4a7f-98dd-ddff5f9df829",
   "metadata": {},
   "outputs": [],
   "source": [
    "preds = pd.DataFrame(preds, columns=y_test.columns)\n",
    "\n",
    "# Раскодируем наши категориальные признаки\n",
    "for i in range(preds.shape[0]):\n",
    "    for cat in list_of_cats:\n",
    "        preds.loc[i, cat] = id2cat[cat][round(preds.loc[i, cat])]\n",
    "\n",
    "y_test.reset_index(inplace=True)\n",
    "\n",
    "y_test.drop(columns=\"index\", inplace=True)\n",
    "\n",
    "# Раскодируем наши категориальные признаки\n",
    "for i in range(y_test.shape[0]):\n",
    "    for cat in list_of_cats:\n",
    "        y_test.loc[i, cat] = id2cat[cat][round(y_test.loc[i, cat])]\n",
    "\n",
    "for col in X_test.columns:\n",
    "    X_test.loc[:,col] = X_test.loc[:,col].apply(lambda value: restore_normalization(value, col))\n"
   ]
  },
  {
   "cell_type": "code",
   "execution_count": 64,
   "id": "b9481f27-1233-4325-b853-51e2d154d15b",
   "metadata": {},
   "outputs": [
    {
     "data": {
      "text/html": [
       "<div>\n",
       "<style scoped>\n",
       "    .dataframe tbody tr th:only-of-type {\n",
       "        vertical-align: middle;\n",
       "    }\n",
       "\n",
       "    .dataframe tbody tr th {\n",
       "        vertical-align: top;\n",
       "    }\n",
       "\n",
       "    .dataframe thead th {\n",
       "        text-align: right;\n",
       "    }\n",
       "</style>\n",
       "<table border=\"1\" class=\"dataframe\">\n",
       "  <thead>\n",
       "    <tr style=\"text-align: right;\">\n",
       "      <th></th>\n",
       "      <th>Tрег, ᵒС\\n</th>\n",
       "      <th>Металл</th>\n",
       "      <th>Лиганд</th>\n",
       "      <th>Растворитель</th>\n",
       "      <th>m (соли), г</th>\n",
       "      <th>m(кис-ты), г</th>\n",
       "      <th>Vсин. (р-ля), мл</th>\n",
       "      <th>Т.син., °С</th>\n",
       "      <th>Vпр. (р-ля), мл</th>\n",
       "      <th>Т суш., °С</th>\n",
       "    </tr>\n",
       "  </thead>\n",
       "  <tbody>\n",
       "    <tr>\n",
       "      <th>0</th>\n",
       "      <td>110.0</td>\n",
       "      <td>Zn</td>\n",
       "      <td>BTB</td>\n",
       "      <td>ДМФА</td>\n",
       "      <td>0.3560</td>\n",
       "      <td>0.3505</td>\n",
       "      <td>64.0</td>\n",
       "      <td>110.0</td>\n",
       "      <td>150.0</td>\n",
       "      <td>130.0</td>\n",
       "    </tr>\n",
       "    <tr>\n",
       "      <th>1</th>\n",
       "      <td>130.0</td>\n",
       "      <td>Al</td>\n",
       "      <td>BTC</td>\n",
       "      <td>ДМФА</td>\n",
       "      <td>1.0740</td>\n",
       "      <td>0.4910</td>\n",
       "      <td>28.0</td>\n",
       "      <td>130.0</td>\n",
       "      <td>200.0</td>\n",
       "      <td>130.0</td>\n",
       "    </tr>\n",
       "    <tr>\n",
       "      <th>2</th>\n",
       "      <td>130.0</td>\n",
       "      <td>Fe</td>\n",
       "      <td>BDC</td>\n",
       "      <td>ДМФА</td>\n",
       "      <td>0.8050</td>\n",
       "      <td>0.4980</td>\n",
       "      <td>24.0</td>\n",
       "      <td>130.0</td>\n",
       "      <td>150.0</td>\n",
       "      <td>130.0</td>\n",
       "    </tr>\n",
       "    <tr>\n",
       "      <th>3</th>\n",
       "      <td>130.0</td>\n",
       "      <td>Fe</td>\n",
       "      <td>BDC</td>\n",
       "      <td>ДМФА</td>\n",
       "      <td>0.8092</td>\n",
       "      <td>0.5000</td>\n",
       "      <td>24.0</td>\n",
       "      <td>130.0</td>\n",
       "      <td>150.0</td>\n",
       "      <td>130.0</td>\n",
       "    </tr>\n",
       "    <tr>\n",
       "      <th>4</th>\n",
       "      <td>130.0</td>\n",
       "      <td>Al</td>\n",
       "      <td>BTC</td>\n",
       "      <td>ДМФА</td>\n",
       "      <td>1.0740</td>\n",
       "      <td>0.4910</td>\n",
       "      <td>28.0</td>\n",
       "      <td>130.0</td>\n",
       "      <td>150.0</td>\n",
       "      <td>100.0</td>\n",
       "    </tr>\n",
       "  </tbody>\n",
       "</table>\n",
       "</div>"
      ],
      "text/plain": [
       "   Tрег, ᵒС\\n Металл Лиганд Растворитель  m (соли), г  m(кис-ты), г  \\\n",
       "0       110.0     Zn    BTB         ДМФА       0.3560        0.3505   \n",
       "1       130.0     Al    BTC         ДМФА       1.0740        0.4910   \n",
       "2       130.0     Fe    BDC         ДМФА       0.8050        0.4980   \n",
       "3       130.0     Fe    BDC         ДМФА       0.8092        0.5000   \n",
       "4       130.0     Al    BTC         ДМФА       1.0740        0.4910   \n",
       "\n",
       "   Vсин. (р-ля), мл  Т.син., °С  Vпр. (р-ля), мл  Т суш., °С  \n",
       "0              64.0       110.0            150.0       130.0  \n",
       "1              28.0       130.0            200.0       130.0  \n",
       "2              24.0       130.0            150.0       130.0  \n",
       "3              24.0       130.0            150.0       130.0  \n",
       "4              28.0       130.0            150.0       100.0  "
      ]
     },
     "execution_count": 64,
     "metadata": {},
     "output_type": "execute_result"
    }
   ],
   "source": [
    "y_test.head()"
   ]
  },
  {
   "cell_type": "code",
   "execution_count": 65,
   "id": "99b763d7-fc78-4f76-9450-fad21e0e7fd1",
   "metadata": {},
   "outputs": [
    {
     "data": {
      "text/html": [
       "<div>\n",
       "<style scoped>\n",
       "    .dataframe tbody tr th:only-of-type {\n",
       "        vertical-align: middle;\n",
       "    }\n",
       "\n",
       "    .dataframe tbody tr th {\n",
       "        vertical-align: top;\n",
       "    }\n",
       "\n",
       "    .dataframe thead th {\n",
       "        text-align: right;\n",
       "    }\n",
       "</style>\n",
       "<table border=\"1\" class=\"dataframe\">\n",
       "  <thead>\n",
       "    <tr style=\"text-align: right;\">\n",
       "      <th></th>\n",
       "      <th>Tрег, ᵒС\\n</th>\n",
       "      <th>Металл</th>\n",
       "      <th>Лиганд</th>\n",
       "      <th>Растворитель</th>\n",
       "      <th>m (соли), г</th>\n",
       "      <th>m(кис-ты), г</th>\n",
       "      <th>Vсин. (р-ля), мл</th>\n",
       "      <th>Т.син., °С</th>\n",
       "      <th>Vпр. (р-ля), мл</th>\n",
       "      <th>Т суш., °С</th>\n",
       "    </tr>\n",
       "  </thead>\n",
       "  <tbody>\n",
       "    <tr>\n",
       "      <th>0</th>\n",
       "      <td>163.822497</td>\n",
       "      <td>Ti</td>\n",
       "      <td>NH2-BDC</td>\n",
       "      <td>ДМФА</td>\n",
       "      <td>3.087116</td>\n",
       "      <td>1.606259</td>\n",
       "      <td>46.921538</td>\n",
       "      <td>125.153446</td>\n",
       "      <td>207.475002</td>\n",
       "      <td>125.570900</td>\n",
       "    </tr>\n",
       "    <tr>\n",
       "      <th>1</th>\n",
       "      <td>163.957050</td>\n",
       "      <td>Ti</td>\n",
       "      <td>NH2-BDC</td>\n",
       "      <td>ДМФА</td>\n",
       "      <td>3.091141</td>\n",
       "      <td>1.604966</td>\n",
       "      <td>46.929894</td>\n",
       "      <td>125.183000</td>\n",
       "      <td>207.435478</td>\n",
       "      <td>125.604610</td>\n",
       "    </tr>\n",
       "    <tr>\n",
       "      <th>2</th>\n",
       "      <td>163.854731</td>\n",
       "      <td>Ti</td>\n",
       "      <td>NH2-BDC</td>\n",
       "      <td>ДМФА</td>\n",
       "      <td>3.086444</td>\n",
       "      <td>1.605435</td>\n",
       "      <td>46.869171</td>\n",
       "      <td>125.131223</td>\n",
       "      <td>207.196750</td>\n",
       "      <td>125.561648</td>\n",
       "    </tr>\n",
       "    <tr>\n",
       "      <th>3</th>\n",
       "      <td>163.932133</td>\n",
       "      <td>Ti</td>\n",
       "      <td>NH2-BDC</td>\n",
       "      <td>ДМФА</td>\n",
       "      <td>3.091452</td>\n",
       "      <td>1.605441</td>\n",
       "      <td>46.952785</td>\n",
       "      <td>125.190313</td>\n",
       "      <td>207.510534</td>\n",
       "      <td>125.601416</td>\n",
       "    </tr>\n",
       "    <tr>\n",
       "      <th>4</th>\n",
       "      <td>163.945982</td>\n",
       "      <td>Ti</td>\n",
       "      <td>NH2-BDC</td>\n",
       "      <td>ДМФА</td>\n",
       "      <td>3.092138</td>\n",
       "      <td>1.605340</td>\n",
       "      <td>46.944571</td>\n",
       "      <td>125.191887</td>\n",
       "      <td>207.517187</td>\n",
       "      <td>125.604191</td>\n",
       "    </tr>\n",
       "  </tbody>\n",
       "</table>\n",
       "</div>"
      ],
      "text/plain": [
       "   Tрег, ᵒС\\n Металл   Лиганд Растворитель  m (соли), г  m(кис-ты), г  \\\n",
       "0  163.822497     Ti  NH2-BDC         ДМФА     3.087116      1.606259   \n",
       "1  163.957050     Ti  NH2-BDC         ДМФА     3.091141      1.604966   \n",
       "2  163.854731     Ti  NH2-BDC         ДМФА     3.086444      1.605435   \n",
       "3  163.932133     Ti  NH2-BDC         ДМФА     3.091452      1.605441   \n",
       "4  163.945982     Ti  NH2-BDC         ДМФА     3.092138      1.605340   \n",
       "\n",
       "   Vсин. (р-ля), мл  Т.син., °С  Vпр. (р-ля), мл  Т суш., °С  \n",
       "0         46.921538  125.153446       207.475002  125.570900  \n",
       "1         46.929894  125.183000       207.435478  125.604610  \n",
       "2         46.869171  125.131223       207.196750  125.561648  \n",
       "3         46.952785  125.190313       207.510534  125.601416  \n",
       "4         46.944571  125.191887       207.517187  125.604191  "
      ]
     },
     "execution_count": 65,
     "metadata": {},
     "output_type": "execute_result"
    }
   ],
   "source": [
    "preds.head()"
   ]
  },
  {
   "cell_type": "code",
   "execution_count": null,
   "id": "f16d7a77-4e11-48cd-ac3c-a974f0bd74a4",
   "metadata": {},
   "outputs": [],
   "source": []
  }
 ],
 "metadata": {
  "kernelspec": {
   "display_name": "Python 3",
   "language": "python",
   "name": "python3"
  },
  "language_info": {
   "codemirror_mode": {
    "name": "ipython",
    "version": 3
   },
   "file_extension": ".py",
   "mimetype": "text/x-python",
   "name": "python",
   "nbconvert_exporter": "python",
   "pygments_lexer": "ipython3",
   "version": "3.8.15"
  }
 },
 "nbformat": 4,
 "nbformat_minor": 5
}
