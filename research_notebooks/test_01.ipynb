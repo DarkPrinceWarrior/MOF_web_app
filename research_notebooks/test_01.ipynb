{
 "cells": [
  {
   "cell_type": "code",
   "execution_count": 25,
   "id": "7237e634-0174-47af-9306-ee5f9218e493",
   "metadata": {},
   "outputs": [],
   "source": [
    "import warnings\n",
    "warnings.filterwarnings(\"ignore\")\n",
    "import pandas as pd\n",
    "import numpy as np\n",
    "import xgboost as xg\n",
    "from sklearn.model_selection import train_test_split\n",
    "from sklearn.metrics import mean_squared_error as MSE, mean_absolute_error"
   ]
  },
  {
   "cell_type": "code",
   "execution_count": 45,
   "id": "48576021-51a5-479f-846b-0c70e5251796",
   "metadata": {},
   "outputs": [],
   "source": [
    "import pandas as pd\n",
    "import numpy as np\n",
    "from sklearn.preprocessing import StandardScaler\n",
    "from sklearn.model_selection import train_test_split\n",
    "from sklearn.metrics import mean_squared_error\n",
    "import xgboost\n",
    "import optuna"
   ]
  },
  {
   "cell_type": "code",
   "execution_count": 26,
   "id": "e67fb2b6-e10f-468b-8d9f-c234ec1c558a",
   "metadata": {},
   "outputs": [],
   "source": [
    "# Загрузим данные. Я их немножно подправил ещё до загрузки.\n",
    "df = pd.read_excel(\"data/data_00.xlsx\")\n",
    "\n",
    "# Уберём ненужные столбцы и пустые значения\n",
    "df = df.drop(columns=[\"Номер образца\", \"Адсорбент\"]).dropna()\n",
    "\n",
    "# Ещё один нюанс\n",
    "df = df[df[\"Sme, м2/г\"] != \"-\"]\n",
    "\n",
    "# Сменим тип данных у таблицы\n",
    "df[\"Sme, м2/г\"] = df[\"Sme, м2/г\"].astype(np.float64, copy=False)\n",
    "df[\"m (соли), г\"] = df[\"m (соли), г\"].astype(np.float64, copy=False)\n",
    "df[\"Vпр. (р-ля), мл\"] = df[\"Vпр. (р-ля), мл\"].astype(np.float64, copy=False)\n",
    "\n",
    "# У нас есть 3 категориальных признака, которых мы закодируем числами\n",
    "list_of_cats = [\"Металл\", \"Лиганд\", \"Растворитель\"]\n",
    "cat2id = {cat:{v:i for i, v in enumerate(df[cat].drop_duplicates().values)} for cat in list_of_cats}\n",
    "id2cat = {cat:{i:v for i, v in enumerate(df[cat].drop_duplicates().values)} for cat in list_of_cats}\n",
    "for cat in list_of_cats:\n",
    "    df[cat] = df[cat].apply(lambda x: cat2id[cat][x])"
   ]
  },
  {
   "cell_type": "code",
   "execution_count": 27,
   "id": "ee850eb5-0b81-46f8-8412-f8e60e0f04ec",
   "metadata": {},
   "outputs": [],
   "source": [
    "y_cols = ['W0, см3/г', 'SБЭТ, м2/г']\n",
    "X_cols = ['Tрег, ᵒС\\n', 'Металл', 'Лиганд', 'Растворитель', 'm (соли), г', 'm(кис-ты), г', 'Vсин. (р-ля), мл', 'Т.син., °С', 'Vпр. (р-ля), мл', 'Т суш., °С']"
   ]
  },
  {
   "cell_type": "code",
   "execution_count": 28,
   "id": "0e2ef06a-4fb0-4d0f-b7b3-26569c798257",
   "metadata": {},
   "outputs": [],
   "source": [
    "X = df[X_cols]"
   ]
  },
  {
   "cell_type": "code",
   "execution_count": 29,
   "id": "35460d43-3bc6-4376-8611-de0fd8482ff6",
   "metadata": {},
   "outputs": [],
   "source": [
    "y1 = df[y_cols[0]]\n",
    "y2 = df[y_cols[1]]"
   ]
  },
  {
   "cell_type": "markdown",
   "id": "a94ab7c2-ccc7-49f0-89f2-6799687a2b22",
   "metadata": {},
   "source": [
    "#### W0"
   ]
  },
  {
   "cell_type": "code",
   "execution_count": 11,
   "id": "c536b20f-4752-4b02-90aa-babfb4ed921d",
   "metadata": {},
   "outputs": [],
   "source": [
    "y = y1"
   ]
  },
  {
   "cell_type": "code",
   "execution_count": 53,
   "id": "b770ad74-b919-429d-9d6c-da3a884d8ee3",
   "metadata": {},
   "outputs": [],
   "source": [
    "X_train, X_test, y_train, y_test = train_test_split(X, y, test_size=0.3, random_state=1)\n",
    "\n",
    "# Scale the data\n",
    "scaler = StandardScaler()\n",
    "X_train = scaler.fit_transform(X_train)\n",
    "X_test = scaler.transform(X_test)\n",
    "\n",
    "# Define the model\n",
    "model = xgboost.XGBRegressor()\n",
    "\n",
    "# Fit the model\n",
    "model.fit(X_train, y_train)\n",
    "\n",
    "# Make predictions\n",
    "y_pred = model.predict(X_test)\n",
    "\n",
    "# Evaluate the model\n",
    "print('MSE: ', mean_squared_error(y_test, y_pred))\n",
    "print('RMSE: ', np.sqrt(mean_squared_error(y_test, y_pred)))\n",
    "\n",
    "def objective(trial):\n",
    "    param = {\n",
    "        'max_depth': trial.suggest_int('max_depth', 1, 10),\n",
    "        'learning_rate': trial.suggest_float('learning_rate', 0.01, 1.0),\n",
    "        'n_estimators': trial.suggest_int('n_estimators', 50, 1000),\n",
    "        'min_child_weight': trial.suggest_int('min_child_weight', 1, 10),\n",
    "        'gamma': trial.suggest_float('gamma', 0.01, 1.0),\n",
    "        'subsample': trial.suggest_float('subsample', 0.01, 1.0),\n",
    "        'colsample_bytree': trial.suggest_float('colsample_bytree', 0.01, 1.0),\n",
    "        'reg_alpha': trial.suggest_float('reg_alpha', 0.01, 1.0),\n",
    "        'reg_lambda': trial.suggest_float('reg_lambda', 0.01, 1.0),\n",
    "        'random_state': trial.suggest_int('random_state', 1, 1000)\n",
    "    }\n",
    "    model = xgboost.XGBRegressor(**param)\n",
    "    model.fit(X_train, y_train)\n",
    "    y_pred = model.predict(X_test)\n",
    "    return mean_squared_error(y_test, y_pred)\n",
    "\n",
    "# Create the study\n",
    "study = optuna.create_study(direction='minimize', study_name='regression')\n",
    "study.optimize(objective, n_trials=100)\n",
    "\n",
    "# Print the best parameters\n",
    "print('Best parameters', study.best_params)"
   ]
  },
  {
   "cell_type": "code",
   "execution_count": 55,
   "id": "f5879ebd-4bf6-41a9-8f84-11611b050548",
   "metadata": {},
   "outputs": [
    {
     "name": "stdout",
     "output_type": "stream",
     "text": [
      "MSE:  0.011339451423005737\n",
      "RMSE:  0.1064868603303043\n"
     ]
    }
   ],
   "source": [
    "model = xgboost.XGBRegressor(**study.best_params)\n",
    "model.fit(X_train, y_train)\n",
    "y_pred = model.predict(X_test)\n",
    "\n",
    "print('MSE: ', mean_squared_error(y_test, y_pred))\n",
    "print('RMSE: ', np.sqrt(mean_squared_error(y_test, y_pred)))"
   ]
  },
  {
   "cell_type": "code",
   "execution_count": 57,
   "id": "7a9237c1-a218-4f76-9779-c98c41cfc5a2",
   "metadata": {},
   "outputs": [],
   "source": [
    "import pickle"
   ]
  },
  {
   "cell_type": "code",
   "execution_count": 58,
   "id": "011805f3-0735-4d48-a818-74b1b4b34dbc",
   "metadata": {},
   "outputs": [],
   "source": [
    "filename = \"xgbregressor_01.pkl\"\n",
    "pickle.dump(model, open(filename, \"wb\"))"
   ]
  },
  {
   "cell_type": "markdown",
   "id": "b7c64ad3-2a45-4077-bf10-859eb46fc8ba",
   "metadata": {},
   "source": [
    "#### SБЭТ"
   ]
  },
  {
   "cell_type": "code",
   "execution_count": 59,
   "id": "9d96ffed-2ba9-4b27-83b1-71a59bf6bfb0",
   "metadata": {},
   "outputs": [],
   "source": [
    "y = y2"
   ]
  },
  {
   "cell_type": "code",
   "execution_count": 60,
   "id": "d26e7e8b-714c-43a2-96e5-ea4f82f6e292",
   "metadata": {
    "collapsed": true,
    "jupyter": {
     "outputs_hidden": true
    },
    "tags": []
   },
   "outputs": [
    {
     "name": "stderr",
     "output_type": "stream",
     "text": [
      "\u001b[32m[I 2023-01-14 08:53:03,198]\u001b[0m A new study created in memory with name: regression\u001b[0m\n"
     ]
    },
    {
     "name": "stdout",
     "output_type": "stream",
     "text": [
      "MSE:  123820.10928194581\n",
      "RMSE:  351.880816871204\n"
     ]
    },
    {
     "name": "stderr",
     "output_type": "stream",
     "text": [
      "\u001b[32m[I 2023-01-14 08:53:07,087]\u001b[0m Trial 0 finished with value: 264663.5778000807 and parameters: {'max_depth': 8, 'learning_rate': 0.8633323750736667, 'n_estimators': 675, 'min_child_weight': 4, 'gamma': 0.7100649961692896, 'subsample': 0.6478455017335141, 'colsample_bytree': 0.2288646938868661, 'reg_alpha': 0.32400652928395607, 'reg_lambda': 0.6226288679183601, 'random_state': 658}. Best is trial 0 with value: 264663.5778000807.\u001b[0m\n",
      "\u001b[32m[I 2023-01-14 08:53:12,366]\u001b[0m Trial 1 finished with value: 148779.84331092186 and parameters: {'max_depth': 7, 'learning_rate': 0.8568205547713101, 'n_estimators': 631, 'min_child_weight': 5, 'gamma': 0.43002468829799145, 'subsample': 0.9800983387779272, 'colsample_bytree': 0.9024161495420594, 'reg_alpha': 0.11195855594890738, 'reg_lambda': 0.05336413749338706, 'random_state': 495}. Best is trial 1 with value: 148779.84331092186.\u001b[0m\n",
      "\u001b[32m[I 2023-01-14 08:53:18,806]\u001b[0m Trial 2 finished with value: 201579.9423180353 and parameters: {'max_depth': 10, 'learning_rate': 0.7446892970692249, 'n_estimators': 509, 'min_child_weight': 1, 'gamma': 0.5739556179199162, 'subsample': 0.734284162355948, 'colsample_bytree': 0.3010825090780619, 'reg_alpha': 0.8266961092670321, 'reg_lambda': 0.9642055502545301, 'random_state': 289}. Best is trial 1 with value: 148779.84331092186.\u001b[0m\n",
      "\u001b[32m[I 2023-01-14 08:53:23,601]\u001b[0m Trial 3 finished with value: 327009.1161898841 and parameters: {'max_depth': 10, 'learning_rate': 0.930918454872504, 'n_estimators': 795, 'min_child_weight': 10, 'gamma': 0.4304809142029592, 'subsample': 0.43956493065769847, 'colsample_bytree': 0.5966941142972674, 'reg_alpha': 0.11739178689735391, 'reg_lambda': 0.8387989797716892, 'random_state': 52}. Best is trial 1 with value: 148779.84331092186.\u001b[0m\n",
      "\u001b[32m[I 2023-01-14 08:53:25,353]\u001b[0m Trial 4 finished with value: 101759.4376399621 and parameters: {'max_depth': 6, 'learning_rate': 0.3047743715016922, 'n_estimators': 273, 'min_child_weight': 4, 'gamma': 0.5707055459881272, 'subsample': 0.9921185053728708, 'colsample_bytree': 0.22980636991740044, 'reg_alpha': 0.7771001367622503, 'reg_lambda': 0.9228195883826235, 'random_state': 822}. Best is trial 4 with value: 101759.4376399621.\u001b[0m\n",
      "\u001b[32m[I 2023-01-14 08:53:27,854]\u001b[0m Trial 5 finished with value: 102833.66891113111 and parameters: {'max_depth': 10, 'learning_rate': 0.14277506824491196, 'n_estimators': 931, 'min_child_weight': 9, 'gamma': 0.9504968413834174, 'subsample': 0.14707814939920777, 'colsample_bytree': 0.739181549749863, 'reg_alpha': 0.20091698854022488, 'reg_lambda': 0.9053845114239046, 'random_state': 137}. Best is trial 4 with value: 101759.4376399621.\u001b[0m\n",
      "\u001b[32m[I 2023-01-14 08:53:28,351]\u001b[0m Trial 6 finished with value: 122490.22588876454 and parameters: {'max_depth': 9, 'learning_rate': 0.07854631560103505, 'n_estimators': 354, 'min_child_weight': 1, 'gamma': 0.9078837879589303, 'subsample': 0.8914616122793951, 'colsample_bytree': 0.9768725038192599, 'reg_alpha': 0.4244699225355744, 'reg_lambda': 0.34979545416245955, 'random_state': 575}. Best is trial 4 with value: 101759.4376399621.\u001b[0m\n",
      "\u001b[32m[I 2023-01-14 08:53:28,736]\u001b[0m Trial 7 finished with value: 135014.96336189707 and parameters: {'max_depth': 3, 'learning_rate': 0.6507862375611495, 'n_estimators': 294, 'min_child_weight': 3, 'gamma': 0.9862848243620626, 'subsample': 0.9357900398448026, 'colsample_bytree': 0.9155074515196633, 'reg_alpha': 0.38378670872263854, 'reg_lambda': 0.2867249553694263, 'random_state': 205}. Best is trial 4 with value: 101759.4376399621.\u001b[0m\n",
      "\u001b[32m[I 2023-01-14 08:53:28,786]\u001b[0m Trial 8 finished with value: 166618.11975287707 and parameters: {'max_depth': 6, 'learning_rate': 0.7107622293391596, 'n_estimators': 70, 'min_child_weight': 7, 'gamma': 0.3544940627980735, 'subsample': 0.1494782312226254, 'colsample_bytree': 0.7347966910403716, 'reg_alpha': 0.10235416617688202, 'reg_lambda': 0.681248599067074, 'random_state': 266}. Best is trial 4 with value: 101759.4376399621.\u001b[0m\n",
      "\u001b[32m[I 2023-01-14 08:53:28,927]\u001b[0m Trial 9 finished with value: 271665.7803732588 and parameters: {'max_depth': 7, 'learning_rate': 0.95250034055105, 'n_estimators': 282, 'min_child_weight': 9, 'gamma': 0.38794459173019263, 'subsample': 0.4352797289423583, 'colsample_bytree': 0.8375365178610864, 'reg_alpha': 0.25457108402911693, 'reg_lambda': 0.31328167434081106, 'random_state': 152}. Best is trial 4 with value: 101759.4376399621.\u001b[0m\n",
      "\u001b[32m[I 2023-01-14 08:53:28,960]\u001b[0m Trial 10 finished with value: 98719.13607250006 and parameters: {'max_depth': 3, 'learning_rate': 0.3469457728572013, 'n_estimators': 75, 'min_child_weight': 7, 'gamma': 0.12042327760597094, 'subsample': 0.6500856539600411, 'colsample_bytree': 0.020142668614487713, 'reg_alpha': 0.707303038950116, 'reg_lambda': 0.7406587990399771, 'random_state': 997}. Best is trial 10 with value: 98719.13607250006.\u001b[0m\n",
      "\u001b[32m[I 2023-01-14 08:53:29,564]\u001b[0m Trial 11 finished with value: 96047.50223459798 and parameters: {'max_depth': 3, 'learning_rate': 0.34179677308987955, 'n_estimators': 83, 'min_child_weight': 7, 'gamma': 0.028212968966942226, 'subsample': 0.7333086232183996, 'colsample_bytree': 0.019183542070012227, 'reg_alpha': 0.7398553232602918, 'reg_lambda': 0.7297673381092065, 'random_state': 1000}. Best is trial 11 with value: 96047.50223459798.\u001b[0m\n",
      "\u001b[32m[I 2023-01-14 08:53:29,682]\u001b[0m Trial 12 finished with value: 109448.95811946131 and parameters: {'max_depth': 2, 'learning_rate': 0.39842964199401987, 'n_estimators': 74, 'min_child_weight': 7, 'gamma': 0.02852867794553167, 'subsample': 0.6242158502334132, 'colsample_bytree': 0.013355317589233029, 'reg_alpha': 0.666827290916396, 'reg_lambda': 0.7068419556734917, 'random_state': 990}. Best is trial 11 with value: 96047.50223459798.\u001b[0m\n",
      "\u001b[32m[I 2023-01-14 08:53:29,791]\u001b[0m Trial 13 finished with value: 123898.11733245461 and parameters: {'max_depth': 4, 'learning_rate': 0.4883766990227106, 'n_estimators': 165, 'min_child_weight': 7, 'gamma': 0.06342586764995774, 'subsample': 0.7783260333750113, 'colsample_bytree': 0.016992856941538296, 'reg_alpha': 0.9599785727079411, 'reg_lambda': 0.5287322127948126, 'random_state': 992}. Best is trial 11 with value: 96047.50223459798.\u001b[0m\n",
      "\u001b[32m[I 2023-01-14 08:53:29,982]\u001b[0m Trial 14 finished with value: 109307.9743395646 and parameters: {'max_depth': 1, 'learning_rate': 0.24862956354670807, 'n_estimators': 422, 'min_child_weight': 6, 'gamma': 0.1994390453730852, 'subsample': 0.3086316338718641, 'colsample_bytree': 0.3963954266250473, 'reg_alpha': 0.5895549929175088, 'reg_lambda': 0.7957473497392066, 'random_state': 796}. Best is trial 11 with value: 96047.50223459798.\u001b[0m\n",
      "\u001b[32m[I 2023-01-14 08:53:30,084]\u001b[0m Trial 15 finished with value: 142078.7256931616 and parameters: {'max_depth': 4, 'learning_rate': 0.5468211260908564, 'n_estimators': 170, 'min_child_weight': 8, 'gamma': 0.19633468112122648, 'subsample': 0.5847334416488479, 'colsample_bytree': 0.12462707075804624, 'reg_alpha': 0.5642196346667756, 'reg_lambda': 0.5307262478203643, 'random_state': 858}. Best is trial 11 with value: 96047.50223459798.\u001b[0m\n",
      "\u001b[32m[I 2023-01-14 08:53:30,118]\u001b[0m Trial 16 finished with value: 109272.12697755895 and parameters: {'max_depth': 4, 'learning_rate': 0.24937910516074735, 'n_estimators': 52, 'min_child_weight': 6, 'gamma': 0.17838386147475385, 'subsample': 0.8050176642180378, 'colsample_bytree': 0.13581007589247845, 'reg_alpha': 0.7331079542399499, 'reg_lambda': 0.7938411661981932, 'random_state': 709}. Best is trial 11 with value: 96047.50223459798.\u001b[0m\n",
      "\u001b[32m[I 2023-01-14 08:53:30,164]\u001b[0m Trial 17 finished with value: 99416.26859727321 and parameters: {'max_depth': 1, 'learning_rate': 0.39994384192312354, 'n_estimators': 185, 'min_child_weight': 8, 'gamma': 0.2743888142697941, 'subsample': 0.5362417097785874, 'colsample_bytree': 0.4554840421496847, 'reg_alpha': 0.9199169170532576, 'reg_lambda': 0.41226531827717516, 'random_state': 407}. Best is trial 11 with value: 96047.50223459798.\u001b[0m\n",
      "\u001b[32m[I 2023-01-14 08:53:30,316]\u001b[0m Trial 18 finished with value: 99120.81050884811 and parameters: {'max_depth': 3, 'learning_rate': 0.04224840241556943, 'n_estimators': 447, 'min_child_weight': 5, 'gamma': 0.10698260505451965, 'subsample': 0.6941298655122315, 'colsample_bytree': 0.12603046811206298, 'reg_alpha': 0.8612696046130586, 'reg_lambda': 0.6157998450459936, 'random_state': 915}. Best is trial 11 with value: 96047.50223459798.\u001b[0m\n",
      "\u001b[32m[I 2023-01-14 08:53:30,879]\u001b[0m Trial 19 finished with value: 128297.46826683082 and parameters: {'max_depth': 5, 'learning_rate': 0.540461580594352, 'n_estimators': 632, 'min_child_weight': 10, 'gamma': 0.29419830440415917, 'subsample': 0.2903009417905374, 'colsample_bytree': 0.3442169162536728, 'reg_alpha': 0.6700657157493861, 'reg_lambda': 0.7395813889372709, 'random_state': 717}. Best is trial 11 with value: 96047.50223459798.\u001b[0m\n",
      "\u001b[32m[I 2023-01-14 08:53:30,974]\u001b[0m Trial 20 finished with value: 90793.37388101149 and parameters: {'max_depth': 2, 'learning_rate': 0.36485714411201037, 'n_estimators': 195, 'min_child_weight': 8, 'gamma': 0.020363326462013505, 'subsample': 0.8254060490267969, 'colsample_bytree': 0.5853099445432985, 'reg_alpha': 0.480905174394312, 'reg_lambda': 0.18075049705561447, 'random_state': 912}. Best is trial 20 with value: 90793.37388101149.\u001b[0m\n",
      "\u001b[32m[I 2023-01-14 08:53:31,065]\u001b[0m Trial 21 finished with value: 102391.81073841458 and parameters: {'max_depth': 3, 'learning_rate': 0.3691311394571766, 'n_estimators': 172, 'min_child_weight': 8, 'gamma': 0.12998213087199825, 'subsample': 0.826193835773351, 'colsample_bytree': 0.5380303092945221, 'reg_alpha': 0.488542989203404, 'reg_lambda': 0.13437413599302558, 'random_state': 890}. Best is trial 20 with value: 90793.37388101149.\u001b[0m\n",
      "\u001b[32m[I 2023-01-14 08:53:31,122]\u001b[0m Trial 22 finished with value: 80506.49839064894 and parameters: {'max_depth': 2, 'learning_rate': 0.17275713912645552, 'n_estimators': 120, 'min_child_weight': 7, 'gamma': 0.042511293090748484, 'subsample': 0.862665221516121, 'colsample_bytree': 0.6300189131350464, 'reg_alpha': 0.6380895161196393, 'reg_lambda': 0.17534486424187923, 'random_state': 996}. Best is trial 22 with value: 80506.49839064894.\u001b[0m\n",
      "\u001b[32m[I 2023-01-14 08:53:31,218]\u001b[0m Trial 23 finished with value: 84870.18483293366 and parameters: {'max_depth': 2, 'learning_rate': 0.16191037734182637, 'n_estimators': 227, 'min_child_weight': 9, 'gamma': 0.01579414889440922, 'subsample': 0.8766580217200685, 'colsample_bytree': 0.6442559422625954, 'reg_alpha': 0.5770512823311424, 'reg_lambda': 0.1284324445502001, 'random_state': 924}. Best is trial 22 with value: 80506.49839064894.\u001b[0m\n",
      "\u001b[32m[I 2023-01-14 08:53:31,341]\u001b[0m Trial 24 finished with value: 93027.57299938041 and parameters: {'max_depth': 2, 'learning_rate': 0.15818678529469252, 'n_estimators': 356, 'min_child_weight': 10, 'gamma': 0.2532160964562613, 'subsample': 0.8724392353940322, 'colsample_bytree': 0.6456552674887017, 'reg_alpha': 0.5208517914111329, 'reg_lambda': 0.18848559796837722, 'random_state': 759}. Best is trial 22 with value: 80506.49839064894.\u001b[0m\n",
      "\u001b[32m[I 2023-01-14 08:53:31,613]\u001b[0m Trial 25 finished with value: 85155.36007161604 and parameters: {'max_depth': 2, 'learning_rate': 0.17509855216501405, 'n_estimators': 243, 'min_child_weight': 9, 'gamma': 0.03411109191939942, 'subsample': 0.8710318918688456, 'colsample_bytree': 0.694874726417534, 'reg_alpha': 0.5820082814003987, 'reg_lambda': 0.03988278386431929, 'random_state': 910}. Best is trial 22 with value: 80506.49839064894.\u001b[0m\n",
      "\u001b[32m[I 2023-01-14 08:53:31,807]\u001b[0m Trial 26 finished with value: 102048.96879431463 and parameters: {'max_depth': 1, 'learning_rate': 0.17142832291017696, 'n_estimators': 343, 'min_child_weight': 9, 'gamma': 0.11257217407712491, 'subsample': 0.9076581614048722, 'colsample_bytree': 0.7171713394756037, 'reg_alpha': 0.604404348406821, 'reg_lambda': 0.019256199040294863, 'random_state': 585}. Best is trial 22 with value: 80506.49839064894.\u001b[0m\n",
      "\u001b[32m[I 2023-01-14 08:53:32,043]\u001b[0m Trial 27 finished with value: 314236.65269130166 and parameters: {'max_depth': 2, 'learning_rate': 0.014546176809519057, 'n_estimators': 238, 'min_child_weight': 9, 'gamma': 0.792465273773415, 'subsample': 0.03859126992017614, 'colsample_bytree': 0.49973477364083, 'reg_alpha': 0.6131903907377715, 'reg_lambda': 0.10060316535821445, 'random_state': 916}. Best is trial 22 with value: 80506.49839064894.\u001b[0m\n",
      "\u001b[32m[I 2023-01-14 08:53:32,311]\u001b[0m Trial 28 finished with value: 116913.94288044302 and parameters: {'max_depth': 5, 'learning_rate': 0.2618723369975082, 'n_estimators': 426, 'min_child_weight': 9, 'gamma': 0.19730663771333254, 'subsample': 0.9960660111285997, 'colsample_bytree': 0.6677275062536585, 'reg_alpha': 0.427959285967347, 'reg_lambda': 0.23305102979288866, 'random_state': 838}. Best is trial 22 with value: 80506.49839064894.\u001b[0m\n",
      "\u001b[32m[I 2023-01-14 08:53:32,436]\u001b[0m Trial 29 finished with value: 129324.88320285201 and parameters: {'max_depth': 1, 'learning_rate': 0.09439546341243278, 'n_estimators': 130, 'min_child_weight': 10, 'gamma': 0.6984155295122819, 'subsample': 0.8637130508360115, 'colsample_bytree': 0.7968676029102475, 'reg_alpha': 0.29373483647955745, 'reg_lambda': 0.41418853679303724, 'random_state': 633}. Best is trial 22 with value: 80506.49839064894.\u001b[0m\n",
      "\u001b[32m[I 2023-01-14 08:53:32,884]\u001b[0m Trial 30 finished with value: 102910.02516406524 and parameters: {'max_depth': 2, 'learning_rate': 0.16184101255439293, 'n_estimators': 499, 'min_child_weight': 6, 'gamma': 0.07435376064949724, 'subsample': 0.7515056632737314, 'colsample_bytree': 0.8042984560114893, 'reg_alpha': 0.33563036985291794, 'reg_lambda': 0.08966019225371596, 'random_state': 749}. Best is trial 22 with value: 80506.49839064894.\u001b[0m\n",
      "\u001b[32m[I 2023-01-14 08:53:32,979]\u001b[0m Trial 31 finished with value: 91279.3572860368 and parameters: {'max_depth': 2, 'learning_rate': 0.21618221552070005, 'n_estimators': 227, 'min_child_weight': 8, 'gamma': 0.030540664229461657, 'subsample': 0.810758535928988, 'colsample_bytree': 0.612821120870493, 'reg_alpha': 0.46667440115133085, 'reg_lambda': 0.18036504205049003, 'random_state': 928}. Best is trial 22 with value: 80506.49839064894.\u001b[0m\n",
      "\u001b[32m[I 2023-01-14 08:53:33,057]\u001b[0m Trial 32 finished with value: 79105.03804758003 and parameters: {'max_depth': 2, 'learning_rate': 0.09634739303474475, 'n_estimators': 235, 'min_child_weight': 8, 'gamma': 0.018853199612671446, 'subsample': 0.9398088211028661, 'colsample_bytree': 0.5771053447798368, 'reg_alpha': 0.5325449999985841, 'reg_lambda': 0.01361946422074407, 'random_state': 936}. Best is trial 32 with value: 79105.03804758003.\u001b[0m\n",
      "\u001b[32m[I 2023-01-14 08:53:33,168]\u001b[0m Trial 33 finished with value: 108780.69267666922 and parameters: {'max_depth': 1, 'learning_rate': 0.11536321767055904, 'n_estimators': 334, 'min_child_weight': 8, 'gamma': 0.15070095615145407, 'subsample': 0.9479857609683529, 'colsample_bytree': 0.5417386101719948, 'reg_alpha': 0.5398550280783347, 'reg_lambda': 0.018980601267338734, 'random_state': 422}. Best is trial 32 with value: 79105.03804758003.\u001b[0m\n",
      "\u001b[32m[I 2023-01-14 08:53:34,096]\u001b[0m Trial 34 finished with value: 126173.95261394298 and parameters: {'max_depth': 4, 'learning_rate': 0.21178211703215016, 'n_estimators': 714, 'min_child_weight': 9, 'gamma': 0.07147522176183407, 'subsample': 0.6940861937008866, 'colsample_bytree': 0.6778629322696231, 'reg_alpha': 0.639265376376511, 'reg_lambda': 0.07621949559686714, 'random_state': 793}. Best is trial 32 with value: 79105.03804758003.\u001b[0m\n",
      "\u001b[32m[I 2023-01-14 08:53:34,244]\u001b[0m Trial 35 finished with value: 91302.1411659623 and parameters: {'max_depth': 3, 'learning_rate': 0.04980546989571575, 'n_estimators': 127, 'min_child_weight': 10, 'gamma': 0.255681678447949, 'subsample': 0.9414072545672602, 'colsample_bytree': 0.4633123541813884, 'reg_alpha': 0.010250947100115149, 'reg_lambda': 0.13559361512399692, 'random_state': 847}. Best is trial 32 with value: 79105.03804758003.\u001b[0m\n",
      "\u001b[32m[I 2023-01-14 08:53:35,107]\u001b[0m Trial 36 finished with value: 87894.55746858053 and parameters: {'max_depth': 2, 'learning_rate': 0.10645720486503057, 'n_estimators': 557, 'min_child_weight': 4, 'gamma': 0.4922310920041712, 'subsample': 0.8688137648242615, 'colsample_bytree': 0.5736470511419377, 'reg_alpha': 0.7852575017390763, 'reg_lambda': 0.01600943210282668, 'random_state': 951}. Best is trial 32 with value: 79105.03804758003.\u001b[0m\n",
      "\u001b[32m[I 2023-01-14 08:53:43,211]\u001b[0m Trial 37 finished with value: 121403.60452364445 and parameters: {'max_depth': 8, 'learning_rate': 0.19846410914177356, 'n_estimators': 988, 'min_child_weight': 9, 'gamma': 0.08059642693268708, 'subsample': 0.9843262315141212, 'colsample_bytree': 0.8691437175584446, 'reg_alpha': 0.5587033344155133, 'reg_lambda': 0.2436474623826233, 'random_state': 669}. Best is trial 32 with value: 79105.03804758003.\u001b[0m\n",
      "\u001b[32m[I 2023-01-14 08:53:44,011]\u001b[0m Trial 38 finished with value: 114256.32373716317 and parameters: {'max_depth': 1, 'learning_rate': 0.8514429597670208, 'n_estimators': 244, 'min_child_weight': 5, 'gamma': 0.3293661014020388, 'subsample': 0.9097880473756739, 'colsample_bytree': 0.7746847469859063, 'reg_alpha': 0.40070557461750334, 'reg_lambda': 0.14033174958883574, 'random_state': 863}. Best is trial 32 with value: 79105.03804758003.\u001b[0m\n",
      "\u001b[32m[I 2023-01-14 08:53:44,963]\u001b[0m Trial 39 finished with value: 143746.16808589446 and parameters: {'max_depth': 4, 'learning_rate': 0.30135791090117997, 'n_estimators': 304, 'min_child_weight': 3, 'gamma': 0.22442532576784613, 'subsample': 0.7208389951139416, 'colsample_bytree': 0.6371271999840855, 'reg_alpha': 0.6785439970344337, 'reg_lambda': 0.05663039203637369, 'random_state': 949}. Best is trial 32 with value: 79105.03804758003.\u001b[0m\n",
      "\u001b[32m[I 2023-01-14 08:53:49,540]\u001b[0m Trial 40 finished with value: 82447.19580869784 and parameters: {'max_depth': 5, 'learning_rate': 0.014904455941937705, 'n_estimators': 827, 'min_child_weight': 7, 'gamma': 0.6900271472213496, 'subsample': 0.8509615104226, 'colsample_bytree': 0.6972737551659869, 'reg_alpha': 0.8386017432138397, 'reg_lambda': 0.23675712019224582, 'random_state': 496}. Best is trial 32 with value: 79105.03804758003.\u001b[0m\n",
      "\u001b[32m[I 2023-01-14 08:54:03,891]\u001b[0m Trial 41 finished with value: 81426.96475881041 and parameters: {'max_depth': 7, 'learning_rate': 0.011409684855860584, 'n_estimators': 840, 'min_child_weight': 7, 'gamma': 0.6231187785740937, 'subsample': 0.8417188575419303, 'colsample_bytree': 0.7025585311989809, 'reg_alpha': 0.8586501059370877, 'reg_lambda': 0.23405954983340774, 'random_state': 487}. Best is trial 32 with value: 79105.03804758003.\u001b[0m\n",
      "\u001b[32m[I 2023-01-14 08:54:13,722]\u001b[0m Trial 42 finished with value: 119742.27684909823 and parameters: {'max_depth': 7, 'learning_rate': 0.06759921888545435, 'n_estimators': 869, 'min_child_weight': 6, 'gamma': 0.626313292223199, 'subsample': 0.7776345854653572, 'colsample_bytree': 0.7511291232489323, 'reg_alpha': 0.8632859376887441, 'reg_lambda': 0.2563388319033798, 'random_state': 515}. Best is trial 32 with value: 79105.03804758003.\u001b[0m\n",
      "\u001b[32m[I 2023-01-14 08:54:21,574]\u001b[0m Trial 43 finished with value: 97592.39703505751 and parameters: {'max_depth': 8, 'learning_rate': 0.03999483558849738, 'n_estimators': 744, 'min_child_weight': 7, 'gamma': 0.8105425484020186, 'subsample': 0.8434289705410725, 'colsample_bytree': 0.602695254420502, 'reg_alpha': 0.7840826661110221, 'reg_lambda': 0.3637301024726315, 'random_state': 406}. Best is trial 32 with value: 79105.03804758003.\u001b[0m\n",
      "\u001b[32m[I 2023-01-14 08:54:28,546]\u001b[0m Trial 44 finished with value: 115699.30916747007 and parameters: {'max_depth': 7, 'learning_rate': 0.11944724698161253, 'n_estimators': 852, 'min_child_weight': 7, 'gamma': 0.5808879234152292, 'subsample': 0.9324385593511292, 'colsample_bytree': 0.7041258978896696, 'reg_alpha': 0.831899323169977, 'reg_lambda': 0.21206778375229593, 'random_state': 496}. Best is trial 32 with value: 79105.03804758003.\u001b[0m\n",
      "\u001b[32m[I 2023-01-14 08:54:34,768]\u001b[0m Trial 45 finished with value: 98576.47784793912 and parameters: {'max_depth': 6, 'learning_rate': 0.02726052427625443, 'n_estimators': 806, 'min_child_weight': 6, 'gamma': 0.7337393623750674, 'subsample': 0.9618754727573795, 'colsample_bytree': 0.9569562842960537, 'reg_alpha': 0.9790769826876322, 'reg_lambda': 0.31717149364576613, 'random_state': 306}. Best is trial 32 with value: 79105.03804758003.\u001b[0m\n",
      "\u001b[32m[I 2023-01-14 08:54:40,851]\u001b[0m Trial 46 finished with value: 123024.7493565874 and parameters: {'max_depth': 6, 'learning_rate': 0.07830033207207582, 'n_estimators': 927, 'min_child_weight': 8, 'gamma': 0.6402490135120451, 'subsample': 0.7706861667373072, 'colsample_bytree': 0.8381570737103722, 'reg_alpha': 0.9144452500502978, 'reg_lambda': 0.28220109804412014, 'random_state': 549}. Best is trial 32 with value: 79105.03804758003.\u001b[0m\n",
      "\u001b[32m[I 2023-01-14 08:54:42,286]\u001b[0m Trial 47 finished with value: 103381.97272389397 and parameters: {'max_depth': 5, 'learning_rate': 0.13817158600919005, 'n_estimators': 607, 'min_child_weight': 7, 'gamma': 0.5102039869833607, 'subsample': 0.4482538308851132, 'colsample_bytree': 0.49353197456807874, 'reg_alpha': 0.7416204235462849, 'reg_lambda': 0.127629822172387, 'random_state': 329}. Best is trial 32 with value: 79105.03804758003.\u001b[0m\n",
      "\u001b[32m[I 2023-01-14 08:54:46,873]\u001b[0m Trial 48 finished with value: 84108.36049931892 and parameters: {'max_depth': 9, 'learning_rate': 0.017838994477605896, 'n_estimators': 755, 'min_child_weight': 7, 'gamma': 0.4703324449215319, 'subsample': 0.6555520044765681, 'colsample_bytree': 0.5624682992004787, 'reg_alpha': 0.8969830384711168, 'reg_lambda': 0.37319288575094467, 'random_state': 450}. Best is trial 32 with value: 79105.03804758003.\u001b[0m\n",
      "\u001b[32m[I 2023-01-14 08:54:52,391]\u001b[0m Trial 49 finished with value: 113521.82185044896 and parameters: {'max_depth': 9, 'learning_rate': 0.09170390916862843, 'n_estimators': 756, 'min_child_weight': 6, 'gamma': 0.4359987562199723, 'subsample': 0.6704488260904389, 'colsample_bytree': 0.4274530784560905, 'reg_alpha': 0.8885852084283439, 'reg_lambda': 0.4355187458967453, 'random_state': 435}. Best is trial 32 with value: 79105.03804758003.\u001b[0m\n",
      "\u001b[32m[I 2023-01-14 08:54:55,876]\u001b[0m Trial 50 finished with value: 83777.37499114333 and parameters: {'max_depth': 9, 'learning_rate': 0.017121725218849426, 'n_estimators': 684, 'min_child_weight': 7, 'gamma': 0.8859497124838343, 'subsample': 0.6104853289275138, 'colsample_bytree': 0.5712392477761442, 'reg_alpha': 0.9933682682242181, 'reg_lambda': 0.3602086134995077, 'random_state': 362}. Best is trial 32 with value: 79105.03804758003.\u001b[0m\n",
      "\u001b[32m[I 2023-01-14 08:55:01,814]\u001b[0m Trial 51 finished with value: 91296.9823204387 and parameters: {'max_depth': 9, 'learning_rate': 0.030937132235218646, 'n_estimators': 814, 'min_child_weight': 7, 'gamma': 0.8922955987085783, 'subsample': 0.6066024800509755, 'colsample_bytree': 0.5495045174164754, 'reg_alpha': 0.9929562123674711, 'reg_lambda': 0.36843081230294966, 'random_state': 370}. Best is trial 32 with value: 79105.03804758003.\u001b[0m\n",
      "\u001b[32m[I 2023-01-14 08:55:07,730]\u001b[0m Trial 52 finished with value: 109767.22476724994 and parameters: {'max_depth': 10, 'learning_rate': 0.07605179734646743, 'n_estimators': 681, 'min_child_weight': 7, 'gamma': 0.8530183881050806, 'subsample': 0.5350472800075311, 'colsample_bytree': 0.6165992598561989, 'reg_alpha': 0.9065300038733259, 'reg_lambda': 0.4494585697399779, 'random_state': 473}. Best is trial 32 with value: 79105.03804758003.\u001b[0m\n",
      "\u001b[32m[I 2023-01-14 08:55:15,038]\u001b[0m Trial 53 finished with value: 96996.33150804759 and parameters: {'max_depth': 10, 'learning_rate': 0.05516055771993545, 'n_estimators': 889, 'min_child_weight': 7, 'gamma': 0.9616800637051982, 'subsample': 0.5810983030170005, 'colsample_bytree': 0.3841474049142076, 'reg_alpha': 0.9374048643442129, 'reg_lambda': 0.4887637691847236, 'random_state': 350}. Best is trial 32 with value: 79105.03804758003.\u001b[0m\n",
      "\u001b[32m[I 2023-01-14 08:55:22,984]\u001b[0m Trial 54 finished with value: 83337.71206477459 and parameters: {'max_depth': 9, 'learning_rate': 0.022558053761432127, 'n_estimators': 833, 'min_child_weight': 6, 'gamma': 0.6843352439775365, 'subsample': 0.45057415999089173, 'colsample_bytree': 0.5604630840372977, 'reg_alpha': 0.8303050514429532, 'reg_lambda': 0.32828895659288243, 'random_state': 247}. Best is trial 32 with value: 79105.03804758003.\u001b[0m\n",
      "\u001b[32m[I 2023-01-14 08:55:31,880]\u001b[0m Trial 55 finished with value: 104127.87556436945 and parameters: {'max_depth': 8, 'learning_rate': 0.12522620622102748, 'n_estimators': 975, 'min_child_weight': 5, 'gamma': 0.6806562846816734, 'subsample': 0.334565175187057, 'colsample_bytree': 0.4908187407025354, 'reg_alpha': 0.8464708179772937, 'reg_lambda': 0.3117655213208248, 'random_state': 257}. Best is trial 32 with value: 79105.03804758003.\u001b[0m\n",
      "\u001b[32m[I 2023-01-14 08:55:40,133]\u001b[0m Trial 56 finished with value: 255425.70654472863 and parameters: {'max_depth': 7, 'learning_rate': 0.6359257805353979, 'n_estimators': 826, 'min_child_weight': 6, 'gamma': 0.5468693386714367, 'subsample': 0.3824820557754822, 'colsample_bytree': 0.7556597746917132, 'reg_alpha': 0.8150069938532847, 'reg_lambda': 0.26329652373940926, 'random_state': 32}. Best is trial 32 with value: 79105.03804758003.\u001b[0m\n",
      "\u001b[32m[I 2023-01-14 08:55:48,264]\u001b[0m Trial 57 finished with value: 102104.41917104238 and parameters: {'max_depth': 9, 'learning_rate': 0.07874998657118043, 'n_estimators': 938, 'min_child_weight': 8, 'gamma': 0.7376710423155318, 'subsample': 0.470206946743537, 'colsample_bytree': 0.5284505305972143, 'reg_alpha': 0.9437700237618861, 'reg_lambda': 0.3173166775467319, 'random_state': 89}. Best is trial 32 with value: 79105.03804758003.\u001b[0m\n",
      "\u001b[32m[I 2023-01-14 08:55:50,864]\u001b[0m Trial 58 finished with value: 203827.26247499997 and parameters: {'max_depth': 8, 'learning_rate': 0.4334392401288445, 'n_estimators': 638, 'min_child_weight': 6, 'gamma': 0.6408853019317722, 'subsample': 0.24868761537838088, 'colsample_bytree': 0.27864882226202925, 'reg_alpha': 0.7026784843997255, 'reg_lambda': 0.20131781903036122, 'random_state': 376}. Best is trial 32 with value: 79105.03804758003.\u001b[0m\n",
      "\u001b[32m[I 2023-01-14 08:55:57,683]\u001b[0m Trial 59 finished with value: 80456.0441739622 and parameters: {'max_depth': 9, 'learning_rate': 0.012186855099026395, 'n_estimators': 897, 'min_child_weight': 4, 'gamma': 0.7972928792524694, 'subsample': 0.40109427259548097, 'colsample_bytree': 0.6590055743422281, 'reg_alpha': 0.7575969679032841, 'reg_lambda': 0.16087552075929157, 'random_state': 204}. Best is trial 32 with value: 79105.03804758003.\u001b[0m\n",
      "\u001b[32m[I 2023-01-14 08:56:04,701]\u001b[0m Trial 60 finished with value: 161404.2760469013 and parameters: {'max_depth': 6, 'learning_rate': 0.28230574648615686, 'n_estimators': 909, 'min_child_weight': 4, 'gamma': 0.769292167543308, 'subsample': 0.4128179902183031, 'colsample_bytree': 0.6758582148381181, 'reg_alpha': 0.7391837178557412, 'reg_lambda': 0.9734679648506972, 'random_state': 168}. Best is trial 32 with value: 79105.03804758003.\u001b[0m\n",
      "\u001b[32m[I 2023-01-14 08:56:11,142]\u001b[0m Trial 61 finished with value: 96203.62891308924 and parameters: {'max_depth': 9, 'learning_rate': 0.017248061229201184, 'n_estimators': 848, 'min_child_weight': 3, 'gamma': 0.8414174956661854, 'subsample': 0.4821700716718431, 'colsample_bytree': 0.7290760121658167, 'reg_alpha': 0.8056548992549869, 'reg_lambda': 0.17836055947432436, 'random_state': 226}. Best is trial 32 with value: 79105.03804758003.\u001b[0m\n",
      "\u001b[32m[I 2023-01-14 08:56:19,465]\u001b[0m Trial 62 finished with value: 87283.55923309545 and parameters: {'max_depth': 10, 'learning_rate': 0.011069074062693649, 'n_estimators': 786, 'min_child_weight': 2, 'gamma': 0.8822456352999875, 'subsample': 0.3970439654515593, 'colsample_bytree': 0.6412281243585153, 'reg_alpha': 0.7630658110303539, 'reg_lambda': 0.22274731333583944, 'random_state': 90}. Best is trial 32 with value: 79105.03804758003.\u001b[0m\n",
      "\u001b[32m[I 2023-01-14 08:56:26,833]\u001b[0m Trial 63 finished with value: 93244.68718623366 and parameters: {'max_depth': 8, 'learning_rate': 0.06969751398343951, 'n_estimators': 960, 'min_child_weight': 5, 'gamma': 0.9344196285707845, 'subsample': 0.36553345611931065, 'colsample_bytree': 0.5870880523729833, 'reg_alpha': 0.6331381005826806, 'reg_lambda': 0.27741255360765693, 'random_state': 198}. Best is trial 32 with value: 79105.03804758003.\u001b[0m\n",
      "\u001b[32m[I 2023-01-14 08:56:30,047]\u001b[0m Trial 64 finished with value: 113902.5149786018 and parameters: {'max_depth': 9, 'learning_rate': 0.12880275084935178, 'n_estimators': 693, 'min_child_weight': 8, 'gamma': 0.6770373344473078, 'subsample': 0.22003442206685841, 'colsample_bytree': 0.7019498829258277, 'reg_alpha': 0.8047388354176053, 'reg_lambda': 0.16060292059967549, 'random_state': 531}. Best is trial 32 with value: 79105.03804758003.\u001b[0m\n",
      "\u001b[32m[I 2023-01-14 08:56:35,724]\u001b[0m Trial 65 finished with value: 134392.89753897922 and parameters: {'max_depth': 10, 'learning_rate': 0.18959647089382697, 'n_estimators': 775, 'min_child_weight': 7, 'gamma': 0.7588213398936758, 'subsample': 0.52125122974757, 'colsample_bytree': 0.6608274490065381, 'reg_alpha': 0.8729339652011832, 'reg_lambda': 0.33119420498544094, 'random_state': 267}. Best is trial 32 with value: 79105.03804758003.\u001b[0m\n",
      "\u001b[32m[I 2023-01-14 08:56:44,950]\u001b[0m Trial 66 finished with value: 125033.03689513372 and parameters: {'max_depth': 8, 'learning_rate': 0.05078640648158609, 'n_estimators': 897, 'min_child_weight': 2, 'gamma': 0.6008801411276365, 'subsample': 0.5632270993600168, 'colsample_bytree': 0.6200380670277645, 'reg_alpha': 0.7682710612916367, 'reg_lambda': 0.5651855739899366, 'random_state': 569}. Best is trial 32 with value: 79105.03804758003.\u001b[0m\n",
      "\u001b[32m[I 2023-01-14 08:56:45,673]\u001b[0m Trial 67 finished with value: 87458.16803256505 and parameters: {'max_depth': 5, 'learning_rate': 0.11180386196387379, 'n_estimators': 131, 'min_child_weight': 6, 'gamma': 0.812115905335131, 'subsample': 0.9091669299068557, 'colsample_bytree': 0.5235405559021192, 'reg_alpha': 0.6908918488986149, 'reg_lambda': 0.0996520384953544, 'random_state': 612}. Best is trial 32 with value: 79105.03804758003.\u001b[0m\n",
      "\u001b[32m[I 2023-01-14 08:56:47,816]\u001b[0m Trial 68 finished with value: 135158.02617879835 and parameters: {'max_depth': 3, 'learning_rate': 0.23053007904519482, 'n_estimators': 712, 'min_child_weight': 4, 'gamma': 0.7158231519780607, 'subsample': 0.7978022219946718, 'colsample_bytree': 0.4476259303248268, 'reg_alpha': 0.9646579434253884, 'reg_lambda': 0.3957832094310642, 'random_state': 110}. Best is trial 32 with value: 79105.03804758003.\u001b[0m\n",
      "\u001b[32m[I 2023-01-14 08:56:51,780]\u001b[0m Trial 69 finished with value: 80589.75454159241 and parameters: {'max_depth': 9, 'learning_rate': 0.010764756448024831, 'n_estimators': 557, 'min_child_weight': 8, 'gamma': 0.7760867743177975, 'subsample': 0.8383906127775509, 'colsample_bytree': 0.5724554586434469, 'reg_alpha': 0.8378963941071644, 'reg_lambda': 0.2917776186253963, 'random_state': 305}. Best is trial 32 with value: 79105.03804758003.\u001b[0m\n",
      "\u001b[32m[I 2023-01-14 08:56:56,090]\u001b[0m Trial 70 finished with value: 117082.68869789288 and parameters: {'max_depth': 8, 'learning_rate': 0.14185422072034964, 'n_estimators': 517, 'min_child_weight': 8, 'gamma': 0.6726115858013202, 'subsample': 0.8367968833268264, 'colsample_bytree': 0.7932473626436266, 'reg_alpha': 0.7173538447957499, 'reg_lambda': 0.06286011082867811, 'random_state': 216}. Best is trial 32 with value: 79105.03804758003.\u001b[0m\n",
      "\u001b[32m[I 2023-01-14 08:57:05,245]\u001b[0m Trial 71 finished with value: 98808.52353083875 and parameters: {'max_depth': 9, 'learning_rate': 0.047307227658747106, 'n_estimators': 606, 'min_child_weight': 8, 'gamma': 0.7745195988862112, 'subsample': 0.735689293914406, 'colsample_bytree': 0.5855911657535797, 'reg_alpha': 0.8425362883426811, 'reg_lambda': 0.2921173956519125, 'random_state': 292}. Best is trial 32 with value: 79105.03804758003.\u001b[0m\n",
      "\u001b[32m[I 2023-01-14 08:57:09,134]\u001b[0m Trial 72 finished with value: 110025.58802663033 and parameters: {'max_depth': 10, 'learning_rate': 0.09328715087759114, 'n_estimators': 559, 'min_child_weight': 7, 'gamma': 0.8192584932100925, 'subsample': 0.49865647653484724, 'colsample_bytree': 0.5661325957269603, 'reg_alpha': 0.6353990235890448, 'reg_lambda': 0.23038228133717875, 'random_state': 246}. Best is trial 32 with value: 79105.03804758003.\u001b[0m\n",
      "\u001b[32m[I 2023-01-14 08:57:17,210]\u001b[0m Trial 73 finished with value: 113202.1792906155 and parameters: {'max_depth': 9, 'learning_rate': 0.05110965044611995, 'n_estimators': 864, 'min_child_weight': 5, 'gamma': 0.8510700181023024, 'subsample': 0.8974813764475078, 'colsample_bytree': 0.6290119257339701, 'reg_alpha': 0.5149461344037345, 'reg_lambda': 0.34682949401692603, 'random_state': 180}. Best is trial 32 with value: 79105.03804758003.\u001b[0m\n",
      "\u001b[32m[I 2023-01-14 08:57:22,269]\u001b[0m Trial 74 finished with value: 79464.11296205377 and parameters: {'max_depth': 10, 'learning_rate': 0.010211048372622697, 'n_estimators': 554, 'min_child_weight': 7, 'gamma': 0.9980693426715487, 'subsample': 0.846831393669928, 'colsample_bytree': 0.6846897152995405, 'reg_alpha': 0.8706637354699737, 'reg_lambda': 0.2533176914098505, 'random_state': 310}. Best is trial 32 with value: 79105.03804758003.\u001b[0m\n",
      "\u001b[32m[I 2023-01-14 08:57:24,379]\u001b[0m Trial 75 finished with value: 109274.01813553115 and parameters: {'max_depth': 10, 'learning_rate': 0.10456376988670554, 'n_estimators': 476, 'min_child_weight': 8, 'gamma': 0.544340187016364, 'subsample': 0.8539167342595695, 'colsample_bytree': 0.6853531882274368, 'reg_alpha': 0.8732124051245048, 'reg_lambda': 0.15458773562833694, 'random_state': 312}. Best is trial 32 with value: 79105.03804758003.\u001b[0m\n",
      "\u001b[32m[I 2023-01-14 08:57:24,925]\u001b[0m Trial 76 finished with value: 78804.02840972305 and parameters: {'max_depth': 10, 'learning_rate': 0.06451698498682934, 'n_estimators': 97, 'min_child_weight': 6, 'gamma': 0.985637545461393, 'subsample': 0.803933896594604, 'colsample_bytree': 0.6555730148846391, 'reg_alpha': 0.8317270177892881, 'reg_lambda': 0.19635912298965993, 'random_state': 968}. Best is trial 76 with value: 78804.02840972305.\u001b[0m\n",
      "\u001b[32m[I 2023-01-14 08:57:25,352]\u001b[0m Trial 77 finished with value: 129857.94976064828 and parameters: {'max_depth': 10, 'learning_rate': 0.9930156313733605, 'n_estimators': 77, 'min_child_weight': 8, 'gamma': 0.9607304000409035, 'subsample': 0.8072785193900861, 'colsample_bytree': 0.7184353055822146, 'reg_alpha': 0.8001776594241007, 'reg_lambda': 0.2047857660945825, 'random_state': 974}. Best is trial 76 with value: 78804.02840972305.\u001b[0m\n",
      "\u001b[32m[I 2023-01-14 08:57:28,695]\u001b[0m Trial 78 finished with value: 99032.38066781849 and parameters: {'max_depth': 10, 'learning_rate': 0.15441124446314042, 'n_estimators': 390, 'min_child_weight': 7, 'gamma': 0.9859840482731265, 'subsample': 0.9655671487007366, 'colsample_bytree': 0.658676161934044, 'reg_alpha': 0.45313614862206864, 'reg_lambda': 0.11812749321212362, 'random_state': 873}. Best is trial 76 with value: 78804.02840972305.\u001b[0m\n",
      "\u001b[32m[I 2023-01-14 08:57:29,068]\u001b[0m Trial 79 finished with value: 80757.4194939989 and parameters: {'max_depth': 7, 'learning_rate': 0.08209290753030385, 'n_estimators': 104, 'min_child_weight': 7, 'gamma': 0.9221914266878685, 'subsample': 0.885357980496434, 'colsample_bytree': 0.7426172987979276, 'reg_alpha': 0.7564851936778693, 'reg_lambda': 0.1639837898761066, 'random_state': 967}. Best is trial 76 with value: 78804.02840972305.\u001b[0m\n",
      "\u001b[32m[I 2023-01-14 08:57:30,130]\u001b[0m Trial 80 finished with value: 132258.77083235752 and parameters: {'max_depth': 7, 'learning_rate': 0.8003728237835296, 'n_estimators': 105, 'min_child_weight': 6, 'gamma': 0.9267506061859162, 'subsample': 0.9245004477495822, 'colsample_bytree': 0.8403746993303548, 'reg_alpha': 0.6706680829206377, 'reg_lambda': 0.10495479940596267, 'random_state': 963}. Best is trial 76 with value: 78804.02840972305.\u001b[0m\n",
      "\u001b[32m[I 2023-01-14 08:57:31,047]\u001b[0m Trial 81 finished with value: 82221.6041295112 and parameters: {'max_depth': 6, 'learning_rate': 0.06673299898423396, 'n_estimators': 142, 'min_child_weight': 7, 'gamma': 0.9882725315863952, 'subsample': 0.8762557535990824, 'colsample_bytree': 0.762369308287834, 'reg_alpha': 0.7473287424424548, 'reg_lambda': 0.17138930717857395, 'random_state': 1000}. Best is trial 76 with value: 78804.02840972305.\u001b[0m\n",
      "\u001b[32m[I 2023-01-14 08:57:32,779]\u001b[0m Trial 82 finished with value: 81017.26364157794 and parameters: {'max_depth': 6, 'learning_rate': 0.06909421984345117, 'n_estimators': 187, 'min_child_weight': 8, 'gamma': 0.9966509930880597, 'subsample': 0.8881037438675871, 'colsample_bytree': 0.7681872634313784, 'reg_alpha': 0.7606347250807143, 'reg_lambda': 0.16341017892273632, 'random_state': 981}. Best is trial 76 with value: 78804.02840972305.\u001b[0m\n",
      "\u001b[32m[I 2023-01-14 08:57:34,156]\u001b[0m Trial 83 finished with value: 91207.23647842005 and parameters: {'max_depth': 7, 'learning_rate': 0.09826621978116351, 'n_estimators': 209, 'min_child_weight': 8, 'gamma': 0.9980922804052075, 'subsample': 0.8891171086949243, 'colsample_bytree': 0.7899359516840345, 'reg_alpha': 0.722689169515621, 'reg_lambda': 0.04094235311594813, 'random_state': 815}. Best is trial 76 with value: 78804.02840972305.\u001b[0m\n",
      "\u001b[32m[I 2023-01-14 08:57:34,381]\u001b[0m Trial 84 finished with value: 86118.90059116106 and parameters: {'max_depth': 6, 'learning_rate': 0.04486547924981531, 'n_estimators': 101, 'min_child_weight': 9, 'gamma': 0.9065735929384213, 'subsample': 0.8218639375943828, 'colsample_bytree': 0.7387778682141076, 'reg_alpha': 0.7682549328594638, 'reg_lambda': 0.08264433404591229, 'random_state': 941}. Best is trial 76 with value: 78804.02840972305.\u001b[0m\n",
      "\u001b[32m[I 2023-01-14 08:57:36,205]\u001b[0m Trial 85 finished with value: 112503.21307942149 and parameters: {'max_depth': 7, 'learning_rate': 0.14221780666435804, 'n_estimators': 263, 'min_child_weight': 8, 'gamma': 0.9381838784761012, 'subsample': 0.9999268692561905, 'colsample_bytree': 0.9080590529528888, 'reg_alpha': 0.19229583010005824, 'reg_lambda': 0.15393176307461956, 'random_state': 883}. Best is trial 76 with value: 78804.02840972305.\u001b[0m\n",
      "\u001b[32m[I 2023-01-14 08:57:36,730]\u001b[0m Trial 86 finished with value: 82678.82949003288 and parameters: {'max_depth': 10, 'learning_rate': 0.08025848864164754, 'n_estimators': 53, 'min_child_weight': 8, 'gamma': 0.9673658810116822, 'subsample': 0.7660791908064573, 'colsample_bytree': 0.6066491919617542, 'reg_alpha': 0.6123162629942123, 'reg_lambda': 0.19525091536879968, 'random_state': 979}. Best is trial 76 with value: 78804.02840972305.\u001b[0m\n",
      "\u001b[32m[I 2023-01-14 08:57:37,762]\u001b[0m Trial 87 finished with value: 99966.09980441509 and parameters: {'max_depth': 7, 'learning_rate': 0.18271336677427796, 'n_estimators': 166, 'min_child_weight': 7, 'gamma': 0.9152190196619301, 'subsample': 0.7939254205824856, 'colsample_bytree': 0.7239684533583708, 'reg_alpha': 0.7872166762398418, 'reg_lambda': 0.26136281476523165, 'random_state': 915}. Best is trial 76 with value: 78804.02840972305.\u001b[0m\n",
      "\u001b[32m[I 2023-01-14 08:57:38,766]\u001b[0m Trial 88 finished with value: 84960.3596590822 and parameters: {'max_depth': 6, 'learning_rate': 0.038291729341679404, 'n_estimators': 149, 'min_child_weight': 9, 'gamma': 0.9487717292983789, 'subsample': 0.927601160203283, 'colsample_bytree': 0.864714594365144, 'reg_alpha': 0.5474913973185538, 'reg_lambda': 0.24441661703323514, 'random_state': 956}. Best is trial 76 with value: 78804.02840972305.\u001b[0m\n",
      "\u001b[32m[I 2023-01-14 08:57:39,676]\u001b[0m Trial 89 finished with value: 88998.0067290446 and parameters: {'max_depth': 5, 'learning_rate': 0.11660512816538593, 'n_estimators': 114, 'min_child_weight': 7, 'gamma': 0.8704942189540938, 'subsample': 0.9630902796881136, 'colsample_bytree': 0.8163388204496611, 'reg_alpha': 0.9261533084387321, 'reg_lambda': 0.2941675717916374, 'random_state': 889}. Best is trial 76 with value: 78804.02840972305.\u001b[0m\n",
      "\u001b[32m[I 2023-01-14 08:57:44,342]\u001b[0m Trial 90 finished with value: 100917.61083881742 and parameters: {'max_depth': 8, 'learning_rate': 0.06358518685281128, 'n_estimators': 565, 'min_child_weight': 8, 'gamma': 0.9757395335792871, 'subsample': 0.71798946676467, 'colsample_bytree': 0.6540964867983683, 'reg_alpha': 0.648685946982912, 'reg_lambda': 0.21683243978918199, 'random_state': 935}. Best is trial 76 with value: 78804.02840972305.\u001b[0m\n",
      "\u001b[32m[I 2023-01-14 08:57:45,311]\u001b[0m Trial 91 finished with value: 85506.93283976118 and parameters: {'max_depth': 4, 'learning_rate': 0.0823353616064722, 'n_estimators': 190, 'min_child_weight': 7, 'gamma': 0.97969895213749, 'subsample': 0.8785356594774248, 'colsample_bytree': 0.7704072002111564, 'reg_alpha': 0.8577955128984757, 'reg_lambda': 0.1678695009554504, 'random_state': 988}. Best is trial 76 with value: 78804.02840972305.\u001b[0m\n",
      "\u001b[32m[I 2023-01-14 08:57:46,083]\u001b[0m Trial 92 finished with value: 80143.5727904112 and parameters: {'max_depth': 6, 'learning_rate': 0.05830132358059785, 'n_estimators': 154, 'min_child_weight': 7, 'gamma': 0.9936066804739386, 'subsample': 0.8388709687507806, 'colsample_bytree': 0.7566868888889411, 'reg_alpha': 0.7645235783117132, 'reg_lambda': 0.1798325424389687, 'random_state': 995}. Best is trial 76 with value: 78804.02840972305.\u001b[0m\n",
      "\u001b[32m[I 2023-01-14 08:57:48,728]\u001b[0m Trial 93 finished with value: 79211.33254229515 and parameters: {'max_depth': 6, 'learning_rate': 0.03670404407355618, 'n_estimators': 206, 'min_child_weight': 6, 'gamma': 0.9135493374675925, 'subsample': 0.83710678788318, 'colsample_bytree': 0.6938513328163508, 'reg_alpha': 0.8860773753642412, 'reg_lambda': 0.12281832715013707, 'random_state': 963}. Best is trial 76 with value: 78804.02840972305.\u001b[0m\n",
      "\u001b[32m[I 2023-01-14 08:57:49,940]\u001b[0m Trial 94 finished with value: 105228.27064156516 and parameters: {'max_depth': 6, 'learning_rate': 0.16689990056576992, 'n_estimators': 211, 'min_child_weight': 5, 'gamma': 0.04572579134261264, 'subsample': 0.8213505526225543, 'colsample_bytree': 0.6805312501548089, 'reg_alpha': 0.7110224470692008, 'reg_lambda': 0.1188348003107743, 'random_state': 905}. Best is trial 76 with value: 78804.02840972305.\u001b[0m\n",
      "\u001b[32m[I 2023-01-14 08:57:52,771]\u001b[0m Trial 95 finished with value: 89734.1678969482 and parameters: {'max_depth': 6, 'learning_rate': 0.03709523326157859, 'n_estimators': 307, 'min_child_weight': 6, 'gamma': 0.9996781496369604, 'subsample': 0.8573193972881243, 'colsample_bytree': 0.7436305269213452, 'reg_alpha': 0.822965518804323, 'reg_lambda': 0.13749008817335232, 'random_state': 965}. Best is trial 76 with value: 78804.02840972305.\u001b[0m\n",
      "\u001b[32m[I 2023-01-14 08:57:53,092]\u001b[0m Trial 96 finished with value: 163710.79921429296 and parameters: {'max_depth': 5, 'learning_rate': 0.5930062880286346, 'n_estimators': 89, 'min_child_weight': 6, 'gamma': 0.9055511881040427, 'subsample': 0.7501727721062136, 'colsample_bytree': 0.597973454891068, 'reg_alpha': 0.8913845883696736, 'reg_lambda': 0.06810104930141857, 'random_state': 934}. Best is trial 76 with value: 78804.02840972305.\u001b[0m\n",
      "\u001b[32m[I 2023-01-14 08:57:54,657]\u001b[0m Trial 97 finished with value: 106404.78445339084 and parameters: {'max_depth': 5, 'learning_rate': 0.0978894434491861, 'n_estimators': 264, 'min_child_weight': 6, 'gamma': 0.09553550783968684, 'subsample': 0.9012853788611734, 'colsample_bytree': 0.8123803167506631, 'reg_alpha': 0.7539127290373764, 'reg_lambda': 0.03771080403295655, 'random_state': 837}. Best is trial 76 with value: 78804.02840972305.\u001b[0m\n",
      "\u001b[32m[I 2023-01-14 08:57:55,191]\u001b[0m Trial 98 finished with value: 78584.07873303235 and parameters: {'max_depth': 6, 'learning_rate': 0.06165509560718764, 'n_estimators': 160, 'min_child_weight': 4, 'gamma': 0.37805003263571363, 'subsample': 0.7916041117470214, 'colsample_bytree': 0.6280260719762699, 'reg_alpha': 0.7956612584272865, 'reg_lambda': 0.8530080796733946, 'random_state': 995}. Best is trial 98 with value: 78584.07873303235.\u001b[0m\n",
      "\u001b[32m[I 2023-01-14 08:57:58,102]\u001b[0m Trial 99 finished with value: 100147.67094939614 and parameters: {'max_depth': 10, 'learning_rate': 0.1285275014985559, 'n_estimators': 148, 'min_child_weight': 4, 'gamma': 0.8647751984602379, 'subsample': 0.7884033903561877, 'colsample_bytree': 0.639872619908515, 'reg_alpha': 0.7896119545759772, 'reg_lambda': 0.7087564321373575, 'random_state': 900}. Best is trial 98 with value: 78584.07873303235.\u001b[0m\n"
     ]
    },
    {
     "name": "stdout",
     "output_type": "stream",
     "text": [
      "Best parameters {'max_depth': 6, 'learning_rate': 0.06165509560718764, 'n_estimators': 160, 'min_child_weight': 4, 'gamma': 0.37805003263571363, 'subsample': 0.7916041117470214, 'colsample_bytree': 0.6280260719762699, 'reg_alpha': 0.7956612584272865, 'reg_lambda': 0.8530080796733946, 'random_state': 995}\n"
     ]
    }
   ],
   "source": [
    "X_train, X_test, y_train, y_test = train_test_split(X, y, test_size=0.3, random_state=1)\n",
    "\n",
    "# Scale the data\n",
    "scaler = StandardScaler()\n",
    "X_train = scaler.fit_transform(X_train)\n",
    "X_test = scaler.transform(X_test)\n",
    "\n",
    "# Define the model\n",
    "model = xgboost.XGBRegressor()\n",
    "\n",
    "# Fit the model\n",
    "model.fit(X_train, y_train)\n",
    "\n",
    "# Make predictions\n",
    "y_pred = model.predict(X_test)\n",
    "\n",
    "# Evaluate the model\n",
    "print('MSE: ', mean_squared_error(y_test, y_pred))\n",
    "print('RMSE: ', np.sqrt(mean_squared_error(y_test, y_pred)))\n",
    "\n",
    "def objective(trial):\n",
    "    param = {\n",
    "        'max_depth': trial.suggest_int('max_depth', 1, 10),\n",
    "        'learning_rate': trial.suggest_float('learning_rate', 0.01, 1.0),\n",
    "        'n_estimators': trial.suggest_int('n_estimators', 50, 1000),\n",
    "        'min_child_weight': trial.suggest_int('min_child_weight', 1, 10),\n",
    "        'gamma': trial.suggest_float('gamma', 0.01, 1.0),\n",
    "        'subsample': trial.suggest_float('subsample', 0.01, 1.0),\n",
    "        'colsample_bytree': trial.suggest_float('colsample_bytree', 0.01, 1.0),\n",
    "        'reg_alpha': trial.suggest_float('reg_alpha', 0.01, 1.0),\n",
    "        'reg_lambda': trial.suggest_float('reg_lambda', 0.01, 1.0),\n",
    "        'random_state': trial.suggest_int('random_state', 1, 1000)\n",
    "    }\n",
    "    model = xgboost.XGBRegressor(**param)\n",
    "    model.fit(X_train, y_train)\n",
    "    y_pred = model.predict(X_test)\n",
    "    return mean_squared_error(y_test, y_pred)\n",
    "\n",
    "# Create the study\n",
    "study = optuna.create_study(direction='minimize', study_name='regression')\n",
    "study.optimize(objective, n_trials=100)\n",
    "\n",
    "# Print the best parameters\n",
    "print('Best parameters', study.best_params)"
   ]
  },
  {
   "cell_type": "code",
   "execution_count": 61,
   "id": "48ec7045-2343-459a-a04f-45c728190c5d",
   "metadata": {},
   "outputs": [
    {
     "name": "stdout",
     "output_type": "stream",
     "text": [
      "MSE:  78584.07873303235\n",
      "RMSE:  280.3285193001817\n"
     ]
    }
   ],
   "source": [
    "model = xgboost.XGBRegressor(**study.best_params)\n",
    "model.fit(X_train, y_train)\n",
    "y_pred = model.predict(X_test)\n",
    "\n",
    "print('MSE: ', mean_squared_error(y_test, y_pred))\n",
    "print('RMSE: ', np.sqrt(mean_squared_error(y_test, y_pred)))"
   ]
  },
  {
   "cell_type": "code",
   "execution_count": 62,
   "id": "27e21e1c-11b6-4e7e-a909-f6148c559dc6",
   "metadata": {},
   "outputs": [],
   "source": [
    "filename = \"xgbregressor_02.pkl\"\n",
    "pickle.dump(model, open(filename, \"wb\"))"
   ]
  },
  {
   "cell_type": "code",
   "execution_count": 64,
   "id": "f9e5e2c6-cda1-428f-973c-8f7e22e1a7f2",
   "metadata": {},
   "outputs": [],
   "source": [
    "filename = \"scaler.pkl\"\n",
    "pickle.dump(scaler, open(filename, \"wb\"))"
   ]
  }
 ],
 "metadata": {
  "kernelspec": {
   "display_name": "Python 3",
   "language": "python",
   "name": "python3"
  },
  "language_info": {
   "codemirror_mode": {
    "name": "ipython",
    "version": 3
   },
   "file_extension": ".py",
   "mimetype": "text/x-python",
   "name": "python",
   "nbconvert_exporter": "python",
   "pygments_lexer": "ipython3",
   "version": "3.8.15"
  }
 },
 "nbformat": 4,
 "nbformat_minor": 5
}
