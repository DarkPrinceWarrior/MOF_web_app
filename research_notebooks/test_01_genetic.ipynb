{
 "cells": [
  {
   "cell_type": "code",
   "execution_count": 1,
   "id": "42cce176-fdd4-4e0b-a36c-acc6320714bd",
   "metadata": {},
   "outputs": [],
   "source": [
    "import xgboost as xgb\n",
    "import pickle\n",
    "from sklearn.preprocessing import StandardScaler\n",
    "import pandas as pd\n",
    "import numpy as np\n",
    "from sklearn.model_selection import train_test_split\n",
    "import warnings\n",
    "warnings.filterwarnings(\"ignore\")"
   ]
  },
  {
   "cell_type": "code",
   "execution_count": 2,
   "id": "b70d5e9c-6080-4c4c-a0b6-40765a810cc7",
   "metadata": {},
   "outputs": [],
   "source": [
    "# Загрузим данные. Я их немножно подправил ещё до загрузки.\n",
    "df = pd.read_excel(\"data/data_00.xlsx\")\n",
    "\n",
    "# Уберём ненужные столбцы и пустые значения\n",
    "df = df.drop(columns=[\"Номер образца\", \"Адсорбент\"]).dropna()\n",
    "\n",
    "# Ещё один нюанс\n",
    "df = df[df[\"Sme, м2/г\"] != \"-\"]\n",
    "\n",
    "# Сменим тип данных у таблицы\n",
    "df[\"Sme, м2/г\"] = df[\"Sme, м2/г\"].astype(np.float64, copy=False)\n",
    "df[\"m (соли), г\"] = df[\"m (соли), г\"].astype(np.float64, copy=False)\n",
    "df[\"Vпр. (р-ля), мл\"] = df[\"Vпр. (р-ля), мл\"].astype(np.float64, copy=False)\n",
    "\n",
    "# У нас есть 3 категориальных признака, которых мы закодируем числами\n",
    "list_of_cats = [\"Металл\", \"Лиганд\", \"Растворитель\"]\n",
    "cat2id = {cat:{v:i for i, v in enumerate(df[cat].drop_duplicates().values)} for cat in list_of_cats}\n",
    "id2cat = {cat:{i:v for i, v in enumerate(df[cat].drop_duplicates().values)} for cat in list_of_cats}\n",
    "for cat in list_of_cats:\n",
    "    df[cat] = df[cat].apply(lambda x: cat2id[cat][x])\n",
    "    \n",
    "y_cols = ['W0, см3/г', 'SБЭТ, м2/г']\n",
    "X_cols = ['Tрег, ᵒС\\n', 'Металл', 'Лиганд', 'Растворитель', 'm (соли), г', 'm(кис-ты), г', 'Vсин. (р-ля), мл', 'Т.син., °С', 'Vпр. (р-ля), мл', 'Т суш., °С']"
   ]
  },
  {
   "cell_type": "code",
   "execution_count": 3,
   "id": "0ff5b3d4-5d66-4574-bb41-042a216d87a2",
   "metadata": {},
   "outputs": [],
   "source": [
    "X = df[X_cols]\n",
    "y1 = df[y_cols[0]]\n",
    "y2 = df[y_cols[1]]"
   ]
  },
  {
   "cell_type": "code",
   "execution_count": 4,
   "id": "c3699ab1-8770-4181-af8f-db00a3fc5e7c",
   "metadata": {},
   "outputs": [],
   "source": [
    "y = y1"
   ]
  },
  {
   "cell_type": "code",
   "execution_count": 5,
   "id": "0dd04e85-5aee-48be-8e4d-3b0d5c3ebc06",
   "metadata": {},
   "outputs": [],
   "source": [
    "X_train, X_test, y_train, y_test = train_test_split(X, y, test_size=0.3, random_state=1)\n",
    "\n",
    "# Scale the data\n",
    "scaler = StandardScaler()\n",
    "X_train = scaler.fit_transform(X_train)\n",
    "X_test = scaler.transform(X_test)"
   ]
  },
  {
   "cell_type": "code",
   "execution_count": 6,
   "id": "4427fdea-42ba-425e-ab1e-7c121e3e70c1",
   "metadata": {},
   "outputs": [],
   "source": [
    "model_1 = pickle.load(open(\"xgbregressor_01.pkl\", \"rb\"))"
   ]
  },
  {
   "cell_type": "code",
   "execution_count": 7,
   "id": "ef0b0607-cb08-407c-9481-d87ea59ec484",
   "metadata": {},
   "outputs": [],
   "source": [
    "scaler = pickle.load(open(\"scaler.pkl\", \"rb\"))"
   ]
  },
  {
   "cell_type": "code",
   "execution_count": 8,
   "id": "a3197052-aa02-4335-bdaf-588f31d3225c",
   "metadata": {},
   "outputs": [],
   "source": [
    "model_2 = pickle.load(open(\"xgbregressor_02.pkl\", \"rb\"))"
   ]
  },
  {
   "cell_type": "code",
   "execution_count": 9,
   "id": "a80be493-bd88-4c20-a4b0-b84d4e2755a8",
   "metadata": {},
   "outputs": [
    {
     "data": {
      "text/plain": [
       "array([0.5028835], dtype=float32)"
      ]
     },
     "execution_count": 9,
     "metadata": {},
     "output_type": "execute_result"
    }
   ],
   "source": [
    "model_1.predict(scaler.transform(X.values[0,:].reshape((1,10))))"
   ]
  },
  {
   "cell_type": "code",
   "execution_count": 10,
   "id": "3858bad1-ab8a-48f7-8947-501b411512ce",
   "metadata": {},
   "outputs": [
    {
     "data": {
      "text/plain": [
       "array([1320.786], dtype=float32)"
      ]
     },
     "execution_count": 10,
     "metadata": {},
     "output_type": "execute_result"
    }
   ],
   "source": [
    "model_2.predict(scaler.transform(X.values[0,:].reshape((1,10))))"
   ]
  },
  {
   "cell_type": "code",
   "execution_count": 11,
   "id": "560e5aea-77db-4b2c-bf9b-defddd544c8d",
   "metadata": {},
   "outputs": [
    {
     "data": {
      "text/plain": [
       "(0.52, 1234.0)"
      ]
     },
     "execution_count": 11,
     "metadata": {},
     "output_type": "execute_result"
    }
   ],
   "source": [
    "y1[0], y2[0]"
   ]
  },
  {
   "cell_type": "code",
   "execution_count": 12,
   "id": "06f58169-b23f-4b80-ab4d-7466fc837031",
   "metadata": {},
   "outputs": [
    {
     "data": {
      "text/plain": [
       "array([130.   ,   0.   ,   0.   ,   0.   ,   1.074,   0.491,  28.   ,\n",
       "       130.   , 150.   , 130.   ])"
      ]
     },
     "execution_count": 12,
     "metadata": {},
     "output_type": "execute_result"
    }
   ],
   "source": [
    "X.values[0,:]"
   ]
  },
  {
   "cell_type": "markdown",
   "id": "8779aa61-4d9c-4c8a-a223-52b1e5f69892",
   "metadata": {},
   "source": [
    "# Постановка задачи"
   ]
  },
  {
   "cell_type": "markdown",
   "id": "fd7f9372-ebc0-4c4c-92e9-4a0f2f292a4a",
   "metadata": {},
   "source": [
    "Требуется подобрать такие параметры, чтобы W0 и SБЭТ были минимальными."
   ]
  },
  {
   "cell_type": "markdown",
   "id": "6d3f4ecb-2b11-4820-a528-3826598febd1",
   "metadata": {},
   "source": [
    "#### Предельные значения для всех данных"
   ]
  },
  {
   "cell_type": "code",
   "execution_count": 13,
   "id": "861ef917-0b71-45b7-8642-f64959d0dc80",
   "metadata": {},
   "outputs": [],
   "source": [
    "max_X = X.max().values\n",
    "min_X = X.min().values\n",
    "max_y1, max_y2 = y1.max(), y2.max()\n",
    "min_y1, min_y2 = y1.min(), y2.min()"
   ]
  },
  {
   "cell_type": "markdown",
   "id": "7154aec8-70c7-4155-a6cb-5307a8cfc917",
   "metadata": {},
   "source": [
    "Функция для генерации случайного значения"
   ]
  },
  {
   "cell_type": "code",
   "execution_count": 14,
   "id": "b5a2b09f-d8fc-42d7-89f8-7e9432727e41",
   "metadata": {},
   "outputs": [],
   "source": [
    "RANDOM_SEED = 42"
   ]
  },
  {
   "cell_type": "code",
   "execution_count": 15,
   "id": "5442dabb-979b-4c7c-bcd3-bb4a3e73679d",
   "metadata": {},
   "outputs": [],
   "source": [
    "import random"
   ]
  },
  {
   "cell_type": "code",
   "execution_count": 16,
   "id": "80b953de-fce8-4de2-8586-d7830f8ac2a9",
   "metadata": {},
   "outputs": [],
   "source": [
    "def generate_random_init():\n",
    "    return [random.uniform(min_X[i], max_X[i]) for i in range(10)]"
   ]
  },
  {
   "cell_type": "markdown",
   "id": "1838da03-5425-4aba-8828-aa28f7018131",
   "metadata": {},
   "source": [
    "Общая ошибка, в которой каждому `y` отбодится равная доля"
   ]
  },
  {
   "cell_type": "code",
   "execution_count": 17,
   "id": "ce5aa05b-648e-4715-a299-a1417bb7896f",
   "metadata": {},
   "outputs": [
    {
     "data": {
      "text/plain": [
       "(1.07, 3036.4)"
      ]
     },
     "execution_count": 17,
     "metadata": {},
     "output_type": "execute_result"
    }
   ],
   "source": [
    "max_y1, max_y2"
   ]
  },
  {
   "cell_type": "code",
   "execution_count": 18,
   "id": "a8c59a5a-a8cb-4c3c-9640-d1885b713267",
   "metadata": {},
   "outputs": [
    {
     "data": {
      "text/plain": [
       "(0.1630870864808529, 416.9)"
      ]
     },
     "execution_count": 18,
     "metadata": {},
     "output_type": "execute_result"
    }
   ],
   "source": [
    "min_y1, min_y2"
   ]
  },
  {
   "cell_type": "code",
   "execution_count": 19,
   "id": "df19e97b-89d6-4708-a29d-1c7e203d5681",
   "metadata": {},
   "outputs": [
    {
     "data": {
      "text/plain": [
       "0.9069129135191472"
      ]
     },
     "execution_count": 19,
     "metadata": {},
     "output_type": "execute_result"
    }
   ],
   "source": [
    "max_y1 - min_y1 # 100%"
   ]
  },
  {
   "cell_type": "code",
   "execution_count": 20,
   "id": "cf58f94d-b471-4879-a93c-e123885d7f8a",
   "metadata": {},
   "outputs": [],
   "source": [
    "true_y1 = .56\n",
    "pred_y1 = .23"
   ]
  },
  {
   "cell_type": "code",
   "execution_count": 21,
   "id": "ca47aba0-6b31-4f7e-af1e-7542836e4f79",
   "metadata": {},
   "outputs": [],
   "source": [
    "diff_y1 = abs(true_y1 - pred_y1)"
   ]
  },
  {
   "cell_type": "code",
   "execution_count": 22,
   "id": "4d614a72-2983-49ef-ae41-fa8fa4b42b14",
   "metadata": {},
   "outputs": [
    {
     "data": {
      "text/plain": [
       "18.1935881097713"
      ]
     },
     "execution_count": 22,
     "metadata": {},
     "output_type": "execute_result"
    }
   ],
   "source": [
    "50 * diff_y1 / (max_y1 - min_y1)"
   ]
  },
  {
   "cell_type": "code",
   "execution_count": 23,
   "id": "afe10a3c-78d5-4d66-b594-3391634d7217",
   "metadata": {},
   "outputs": [],
   "source": [
    "def equal_error(y1_pred, y2_pred, y1_true, y2_true):\n",
    "    y1_part = abs(y1_true - y1_pred) / (max_y1 - min_y1)\n",
    "    y2_part = abs(y2_true - y2_pred) / (max_y2 - min_y2)\n",
    "    return 50 * y1_part + 50 * y2_part"
   ]
  },
  {
   "cell_type": "code",
   "execution_count": 24,
   "id": "0155b787-707a-4534-9eac-6a99314e7aa6",
   "metadata": {},
   "outputs": [
    {
     "data": {
      "text/plain": [
       "8.877068055184797"
      ]
     },
     "execution_count": 24,
     "metadata": {},
     "output_type": "execute_result"
    }
   ],
   "source": [
    "equal_error(0.6, 1000, y1[0], y2[0])"
   ]
  },
  {
   "cell_type": "code",
   "execution_count": 25,
   "id": "67e7aa47-06cf-4219-a39b-0e46d01c4506",
   "metadata": {},
   "outputs": [
    {
     "data": {
      "text/plain": [
       "18.269938558330182"
      ]
     },
     "execution_count": 25,
     "metadata": {},
     "output_type": "execute_result"
    }
   ],
   "source": [
    "equal_error(0.19, 1230, y1[0], y2[0])"
   ]
  },
  {
   "cell_type": "code",
   "execution_count": 26,
   "id": "b19ab35b-c7b7-4e80-baed-d9f136a0787d",
   "metadata": {},
   "outputs": [
    {
     "data": {
      "text/plain": [
       "2619.5"
      ]
     },
     "execution_count": 26,
     "metadata": {},
     "output_type": "execute_result"
    }
   ],
   "source": [
    "max_y2 - min_y2"
   ]
  },
  {
   "cell_type": "code",
   "execution_count": 27,
   "id": "3e14160c-1039-4cdf-a108-a3e95e8c64f8",
   "metadata": {},
   "outputs": [],
   "source": [
    "y2_pred = (max_y2 - min_y2) * np.random.rand(len(y1),1) + min_y2"
   ]
  },
  {
   "cell_type": "code",
   "execution_count": 28,
   "id": "a13fb779-3947-4f16-b180-9f1c245b8cda",
   "metadata": {},
   "outputs": [],
   "source": [
    "y1_pred = (max_y1 - min_y1) * np.random.rand(len(y1),1) + min_y1"
   ]
  },
  {
   "cell_type": "code",
   "execution_count": 29,
   "id": "5d13beb1-5c0e-4c71-a3ba-fb137ba1e9ff",
   "metadata": {},
   "outputs": [],
   "source": [
    "y_pred = np.hstack((y1_pred, y2_pred))"
   ]
  },
  {
   "cell_type": "code",
   "execution_count": 30,
   "id": "f2aefc81-2bd4-4b64-808a-89dbc4be3958",
   "metadata": {},
   "outputs": [
    {
     "data": {
      "text/plain": [
       "(312, 2)"
      ]
     },
     "execution_count": 30,
     "metadata": {},
     "output_type": "execute_result"
    }
   ],
   "source": [
    "y_pred.shape"
   ]
  },
  {
   "cell_type": "code",
   "execution_count": 31,
   "id": "d6072867-a9d8-4e7b-b273-ba3fa1cab29d",
   "metadata": {},
   "outputs": [],
   "source": [
    "y_true = df[y_cols].values"
   ]
  },
  {
   "cell_type": "code",
   "execution_count": 32,
   "id": "94c86f7f-81af-4492-a736-4fcda3590f9c",
   "metadata": {},
   "outputs": [],
   "source": [
    "def mean_equal_error(y_pred, y_true):\n",
    "    return np.mean([equal_error(*y_pred[i], *y_true[i]) for i in range(len(y_true))])"
   ]
  },
  {
   "cell_type": "code",
   "execution_count": 33,
   "id": "21502301-e4a1-4453-a15b-03fc5696d711",
   "metadata": {},
   "outputs": [
    {
     "data": {
      "text/plain": [
       "32.75445775982288"
      ]
     },
     "execution_count": 33,
     "metadata": {},
     "output_type": "execute_result"
    }
   ],
   "source": [
    "mean_equal_error(y_pred, y_true)"
   ]
  },
  {
   "cell_type": "markdown",
   "id": "5cf6b0ef-6bd9-4c2c-abf3-1a01f365b2d0",
   "metadata": {},
   "source": [
    "# Генетический алгоритм"
   ]
  },
  {
   "cell_type": "markdown",
   "id": "f5836d65-9f05-489c-a4de-b0b0215d3ae4",
   "metadata": {},
   "source": [
    "Надо получить такие значения входных параметром, чтобы на выходе получить такие числа:"
   ]
  },
  {
   "cell_type": "code",
   "execution_count": 34,
   "id": "16edea73-31b8-49be-9ca9-aaab05f32260",
   "metadata": {},
   "outputs": [
    {
     "data": {
      "text/plain": [
       "[0.52, 1234.0]"
      ]
     },
     "execution_count": 34,
     "metadata": {},
     "output_type": "execute_result"
    }
   ],
   "source": [
    "Y_TRUE = [*y_true[0]]\n",
    "Y_TRUE"
   ]
  },
  {
   "cell_type": "markdown",
   "id": "59e61b34-f3a6-4a91-ae40-dcdc2fa8d7ce",
   "metadata": {},
   "source": [
    "## 1. Создадим популяцию"
   ]
  },
  {
   "cell_type": "code",
   "execution_count": 35,
   "id": "b707fd9f-faa4-4fc5-b7e6-a19f519b85e6",
   "metadata": {},
   "outputs": [],
   "source": [
    "POPULATION = 10"
   ]
  },
  {
   "cell_type": "code",
   "execution_count": 36,
   "id": "c775118d-6f69-4589-9898-e77186e4b7a3",
   "metadata": {},
   "outputs": [],
   "source": [
    "X_population = np.array([generate_random_init() for i in range(POPULATION)])"
   ]
  },
  {
   "cell_type": "code",
   "execution_count": 37,
   "id": "1f25f00d-ef1d-4308-b799-e18231260771",
   "metadata": {},
   "outputs": [],
   "source": [
    "y1_prediction = model_1.predict(scaler.transform(X_population))\n",
    "y2_prediction = model_2.predict(scaler.transform(X_population))"
   ]
  },
  {
   "cell_type": "code",
   "execution_count": 38,
   "id": "ffd75e16-7911-467c-b425-b28b59306d5e",
   "metadata": {},
   "outputs": [],
   "source": [
    "y_pred_population = np.vstack((y1_prediction, y2_prediction)).T"
   ]
  },
  {
   "cell_type": "markdown",
   "id": "b1f73909-5bef-4382-87c6-a9d46964a1a6",
   "metadata": {},
   "source": [
    "## 2. Вычислим вероятность выбора каждой хромосомы"
   ]
  },
  {
   "cell_type": "code",
   "execution_count": 39,
   "id": "c8b17144-2756-48b4-8137-77ffb662876f",
   "metadata": {},
   "outputs": [],
   "source": [
    "errors = [equal_error(*y_pred, *Y_TRUE) for y_pred in y_pred_population]"
   ]
  },
  {
   "cell_type": "code",
   "execution_count": 40,
   "id": "097ae36e-9f09-4c8c-b2a2-07d0a9bd9314",
   "metadata": {},
   "outputs": [
    {
     "data": {
      "text/plain": [
       "17.2248394875733"
      ]
     },
     "execution_count": 40,
     "metadata": {},
     "output_type": "execute_result"
    }
   ],
   "source": [
    "np.mean(errors)"
   ]
  },
  {
   "cell_type": "code",
   "execution_count": 41,
   "id": "caacbcc9-10ed-48af-b6fb-68f625750645",
   "metadata": {},
   "outputs": [],
   "source": [
    "reverse_coefs = [1/i for i in errors]"
   ]
  },
  {
   "cell_type": "code",
   "execution_count": 42,
   "id": "9f7408ac-8e64-4344-a183-f6d7c8c59406",
   "metadata": {},
   "outputs": [],
   "source": [
    "choice_coefs = [r/sum(reverse_coefs) for r in reverse_coefs]"
   ]
  },
  {
   "cell_type": "code",
   "execution_count": 43,
   "id": "ec002081-f4e0-4a97-9648-bfdd698c7383",
   "metadata": {},
   "outputs": [],
   "source": [
    "thresh_proba = []\n",
    "thresh = 0\n",
    "for proba in choice_coefs:\n",
    "    thresh += proba\n",
    "    thresh_proba.append(thresh)"
   ]
  },
  {
   "cell_type": "markdown",
   "id": "0f7dde2d-3024-4795-98c6-fe330c9ae89c",
   "metadata": {},
   "source": [
    "## 3. Выбираем родителей"
   ]
  },
  {
   "cell_type": "code",
   "execution_count": 44,
   "id": "e9a61a23-bbf2-4b8c-b9c0-169e5c899db2",
   "metadata": {},
   "outputs": [],
   "source": [
    "def take_parent(thresh_proba):\n",
    "    rand_th = random.random()\n",
    "    parent = None\n",
    "    for i, th in enumerate(thresh_proba):\n",
    "        if th > rand_th:\n",
    "            return i"
   ]
  },
  {
   "cell_type": "code",
   "execution_count": 45,
   "id": "956bc877-1ab1-4a84-926f-9508df9fb434",
   "metadata": {},
   "outputs": [],
   "source": [
    "parent_1, parent_2 = take_parent(thresh_proba), take_parent(thresh_proba)\n",
    "parent_1, parent_2 = X_population[parent_1], X_population[parent_2]"
   ]
  },
  {
   "cell_type": "markdown",
   "id": "59711dee-8d6b-4185-a06b-2d45ed6b3fa2",
   "metadata": {},
   "source": [
    "## 4. Скрещивание"
   ]
  },
  {
   "cell_type": "code",
   "execution_count": 46,
   "id": "3c2ba06c-350d-4cea-bd05-288dcda3007b",
   "metadata": {},
   "outputs": [],
   "source": [
    "new_generation = []\n",
    "for a in range(POPULATION):\n",
    "    ancestor = []\n",
    "    for i in range(len(parent_1)):\n",
    "        parent_1, parent_2 = take_parent(thresh_proba), take_parent(thresh_proba)\n",
    "        parent_1, parent_2 = X_population[parent_1], X_population[parent_2]\n",
    "        ancestor.append(random.choice((parent_1[i], parent_2[i])))\n",
    "    new_generation.append(ancestor)"
   ]
  },
  {
   "cell_type": "code",
   "execution_count": 47,
   "id": "f5ee2031-b65d-418c-8474-9b88dec3e315",
   "metadata": {},
   "outputs": [],
   "source": [
    "X_population = np.array(new_generation)"
   ]
  },
  {
   "cell_type": "markdown",
   "id": "8943e481-ee0a-4691-b71f-69f4403dbcb3",
   "metadata": {},
   "source": [
    "## Теперь ол-тугезер"
   ]
  },
  {
   "cell_type": "code",
   "execution_count": 48,
   "id": "72e09272-ecae-40bd-a558-3df70c0da068",
   "metadata": {},
   "outputs": [],
   "source": [
    "POPULATION = 100\n",
    "Y_TRUE = [*y_true[0]]\n",
    "N_GENERATIONS = 50"
   ]
  },
  {
   "cell_type": "code",
   "execution_count": 68,
   "id": "d2a3bfdd-9433-4022-87a3-82a364177f5c",
   "metadata": {},
   "outputs": [],
   "source": [
    "def create_first_population(POPULATION = 100):\n",
    "    return np.array([generate_random_init() for i in range(POPULATION)])"
   ]
  },
  {
   "cell_type": "code",
   "execution_count": 50,
   "id": "53aa6dd4-14f5-43bc-8758-e21170f73b3a",
   "metadata": {},
   "outputs": [],
   "source": [
    "X_population = create_first_population()"
   ]
  },
  {
   "cell_type": "code",
   "execution_count": 51,
   "id": "9bffc24d-2cf5-4f6c-9afb-3d2cd9740d96",
   "metadata": {},
   "outputs": [],
   "source": [
    "history = []"
   ]
  },
  {
   "cell_type": "code",
   "execution_count": 52,
   "id": "b4386d1f-a507-4652-8bf6-7ce7e1b6c388",
   "metadata": {},
   "outputs": [],
   "source": [
    "def evaluate_population(X_population):\n",
    "    y1_prediction = model_1.predict(scaler.transform(X_population))\n",
    "    y2_prediction = model_2.predict(scaler.transform(X_population))\n",
    "    y_pred_population = np.vstack((y1_prediction, y2_prediction)).T\n",
    "    errors = [equal_error(*y_pred, *Y_TRUE) for y_pred in y_pred_population]\n",
    "    return np.mean(errors), min(errors), errors"
   ]
  },
  {
   "cell_type": "code",
   "execution_count": 53,
   "id": "edb28f98-3db8-4e68-8315-a069e2a34bb5",
   "metadata": {},
   "outputs": [
    {
     "name": "stdout",
     "output_type": "stream",
     "text": [
      "Средняя ошибка: 14.797456305222017; Минимальная ошибка: 4.161540898761777\n"
     ]
    }
   ],
   "source": [
    "e_mean, e_min, errors = evaluate_population(X_population)\n",
    "print(f\"Средняя ошибка: {e_mean}; Минимальная ошибка: {e_min}\")\n",
    "history.append((e_mean, e_min))"
   ]
  },
  {
   "cell_type": "code",
   "execution_count": 54,
   "id": "0b587b36-a0e1-403d-8199-3be1f1f7477d",
   "metadata": {},
   "outputs": [],
   "source": [
    "P_MUTATION = .1"
   ]
  },
  {
   "cell_type": "code",
   "execution_count": 55,
   "id": "75121b18-0028-44f8-a9ba-cc045ddc6824",
   "metadata": {},
   "outputs": [],
   "source": [
    "def evolve(X_population):\n",
    "    \n",
    "    _, _, errors = evaluate_population(X_population)\n",
    "    reverse_coefs = [1/i for i in errors]\n",
    "    choice_coefs = [r/sum(reverse_coefs) for r in reverse_coefs]\n",
    "    \n",
    "    # Thresh\n",
    "    thresh_proba = []\n",
    "    thresh = 0\n",
    "    for proba in choice_coefs:\n",
    "        thresh += proba\n",
    "        thresh_proba.append(thresh)\n",
    "    \n",
    "    #Take parents\n",
    "    parent_1, parent_2 = take_parent(thresh_proba), take_parent(thresh_proba)\n",
    "    parent_1, parent_2 = X_population[parent_1], X_population[parent_2]\n",
    "    \n",
    "    new_generation = []\n",
    "    for a in range(POPULATION):\n",
    "        ancestor = []\n",
    "        for i in range(len(parent_1)):\n",
    "            parent_1, parent_2 = take_parent(thresh_proba), take_parent(thresh_proba)\n",
    "            parent_1, parent_2 = X_population[parent_1], X_population[parent_2]\n",
    "            ancestor.append(random.choice((parent_1[i], parent_2[i])))\n",
    "        # Mutation\n",
    "        #ancestor = [a if random.random() > P_MUTATION else a * (1 + (-P_MUTATION) ** random.randint(0,1)) for a in ancestor]\n",
    "        new_generation.append(ancestor)\n",
    "    X_population = np.array(new_generation)\n",
    "    return X_population"
   ]
  },
  {
   "cell_type": "code",
   "execution_count": 56,
   "id": "04ca3186-d675-4b4c-abc0-5e1a12ddc2de",
   "metadata": {},
   "outputs": [],
   "source": [
    "X_population = create_first_population()\n",
    "\n",
    "history = [(evaluate_population(X_population))]"
   ]
  },
  {
   "cell_type": "code",
   "execution_count": 57,
   "id": "60512ea1-57a4-475b-8b55-5367acdc26c2",
   "metadata": {},
   "outputs": [],
   "source": [
    "import tqdm"
   ]
  },
  {
   "cell_type": "code",
   "execution_count": 58,
   "id": "5172568c-3167-4348-b33a-bac4933d8138",
   "metadata": {},
   "outputs": [
    {
     "name": "stderr",
     "output_type": "stream",
     "text": [
      "100%|██████████| 50/50 [00:00<00:00, 84.82it/s]\n"
     ]
    }
   ],
   "source": [
    "for generation in tqdm.tqdm(range(N_GENERATIONS)):\n",
    "    X_population = evolve(X_population)\n",
    "    history.append(evaluate_population(X_population))"
   ]
  },
  {
   "cell_type": "markdown",
   "id": "785235c8-5b1e-4306-8ebf-8a3cd1b616d0",
   "metadata": {},
   "source": [
    "## Запишем в функцию"
   ]
  },
  {
   "cell_type": "code",
   "execution_count": 69,
   "id": "dcc6f781-5062-45d5-8dbf-fc26dddca9ff",
   "metadata": {},
   "outputs": [],
   "source": [
    "def generate_synth_pars(y_true, POPULATION = 100, N_GENERATIONS = 50):\n",
    "    Y_TRUE = y_true\n",
    "    X_population = create_first_population(POPULATION)\n",
    "    history = [(evaluate_population(X_population))]\n",
    "    for generation in range(N_GENERATIONS):\n",
    "        X_population = evolve(X_population)\n",
    "        history.append(evaluate_population(X_population))\n",
    "    return X_population[np.argmin(history[-1][2])]"
   ]
  },
  {
   "cell_type": "markdown",
   "id": "1b8a7479-a117-4abb-a782-c2b3507b3077",
   "metadata": {},
   "source": [
    "# Проверка всего решения"
   ]
  },
  {
   "cell_type": "code",
   "execution_count": 60,
   "id": "c2388283-c87d-4d51-ba62-b2425551c6dc",
   "metadata": {},
   "outputs": [],
   "source": [
    "def restore_normalization(z_value, col):\n",
    "    min_, max_ = normalization_weights[col]\n",
    "    value = (z_value - 0.01) * (max_ - min_) + min_\n",
    "    return value\n",
    "\n",
    "def NSWE(true, pred):\n",
    "    list_of_allowed_err = [10, 0, 1, 2, 3, 3, 5, 1, 10, 5]\n",
    "    list_of_importancy = [(abs(10 - i) + 5) / 110 for i in list_of_allowed_err]\n",
    "    return sum(abs(true - pred) * np.array(list_of_importancy))\n",
    "\n",
    "def normalize(value, col):\n",
    "    min_, max_ = normalization_weights[col]\n",
    "    z_value = (value - min_) / (max_ - min_)\n",
    "    return z_value + 0.01"
   ]
  },
  {
   "cell_type": "code",
   "execution_count": 71,
   "id": "db5d6199-dbf9-455a-a386-580f2a6f6b1e",
   "metadata": {},
   "outputs": [
    {
     "name": "stderr",
     "output_type": "stream",
     "text": [
      "100%|██████████| 78/78 [01:23<00:00,  1.08s/it]"
     ]
    },
    {
     "name": "stdout",
     "output_type": "stream",
     "text": [
      "0.380628160303491\n"
     ]
    },
    {
     "name": "stderr",
     "output_type": "stream",
     "text": [
      "\n"
     ]
    }
   ],
   "source": [
    "# Загрузим данные. Я их немножно подправил ещё до загрузки.\n",
    "df = pd.read_excel(\"data/data_00.xlsx\")\n",
    "\n",
    "# Уберём ненужные столбцы и пустые значения\n",
    "df = df.drop(columns=[\"Номер образца\", \"Адсорбент\"]).dropna()\n",
    "\n",
    "# Ещё один нюанс\n",
    "df = df[df[\"Sme, м2/г\"] != \"-\"]\n",
    "\n",
    "# Сменим тип данных у таблицы\n",
    "df[\"Sme, м2/г\"] = df[\"Sme, м2/г\"].astype(np.float64, copy=False)\n",
    "df[\"m (соли), г\"] = df[\"m (соли), г\"].astype(np.float64, copy=False)\n",
    "df[\"Vпр. (р-ля), мл\"] = df[\"Vпр. (р-ля), мл\"].astype(np.float64, copy=False)\n",
    "\n",
    "# У нас есть 3 категориальных признака, которых мы закодируем числами\n",
    "list_of_cats = [\"Металл\", \"Лиганд\", \"Растворитель\"]\n",
    "cat2id = {cat:{v:i for i, v in enumerate(df[cat].drop_duplicates().values)} for cat in list_of_cats}\n",
    "id2cat = {cat:{i:v for i, v in enumerate(df[cat].drop_duplicates().values)} for cat in list_of_cats}\n",
    "for cat in list_of_cats:\n",
    "    df[cat] = df[cat].apply(lambda x: cat2id[cat][x])\n",
    "    \n",
    "y_cols = ['W0, см3/г', 'SБЭТ, м2/г']\n",
    "X_cols = ['Tрег, ᵒС\\n', 'Металл', 'Лиганд', 'Растворитель', 'm (соли), г', 'm(кис-ты), г', 'Vсин. (р-ля), мл', 'Т.син., °С', 'Vпр. (р-ля), мл', 'Т суш., °С']\n",
    "\n",
    "cols = list(df.columns)\n",
    "normalization_weights = {}\n",
    "for col in cols:\n",
    "    min_ = df.loc[:,col].min()\n",
    "    max_ = df.loc[:,col].max()\n",
    "    normalization_weights[col] = min_, max_\n",
    "    \n",
    "for col in cols:\n",
    "    df.loc[:,col] = df.loc[:,col].apply(lambda value: normalize(value, col))\n",
    "X = df[X_cols]\n",
    "y = df[y_cols]\n",
    "\n",
    "X_train, X_test, y_train, y_test = train_test_split(X, y,\n",
    "                                                    random_state=1)\n",
    "X_generated = []\n",
    "for y in tqdm.tqdm(y_test.values):\n",
    "    X_generated.append(generate_synth_pars(y, POPULATION=1000, N_GENERATIONS=100))\n",
    "\n",
    "gen = pd.DataFrame(X_generated)\n",
    "gen.columns = X_test.columns\n",
    "\n",
    "for col in cols:\n",
    "    if col in gen.columns:\n",
    "        gen.loc[:,col] = gen.loc[:,col].apply(lambda value: normalize(value, col))\n",
    "\n",
    "trues = X_test.values\n",
    "preds = gen.values\n",
    "\n",
    "MNSWE = 0\n",
    "for pred, true in zip(preds, trues):\n",
    "    MNSWE += NSWE(true, pred)\n",
    "MNSWE /= len(preds)\n",
    "print(MNSWE)"
   ]
  },
  {
   "cell_type": "markdown",
   "id": "722d87f8-f0e6-460e-9321-58e94feabab2",
   "metadata": {},
   "source": [
    "Ошибка работы генетического алгоритма: 38%"
   ]
  }
 ],
 "metadata": {
  "kernelspec": {
   "display_name": "Python 3",
   "language": "python",
   "name": "python3"
  },
  "language_info": {
   "codemirror_mode": {
    "name": "ipython",
    "version": 3
   },
   "file_extension": ".py",
   "mimetype": "text/x-python",
   "name": "python",
   "nbconvert_exporter": "python",
   "pygments_lexer": "ipython3",
   "version": "3.8.15"
  }
 },
 "nbformat": 4,
 "nbformat_minor": 5
}
